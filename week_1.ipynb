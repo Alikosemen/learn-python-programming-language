{
  "cells": [
    {
      "cell_type": "markdown",
      "metadata": {
        "id": "view-in-github",
        "colab_type": "text"
      },
      "source": [
        "<a href=\"https://colab.research.google.com/github/Alikosemen/Learn-Python-Programming-Language/blob/main/Week_1.ipynb\" target=\"_parent\"><img src=\"https://colab.research.google.com/assets/colab-badge.svg\" alt=\"Open In Colab\"/></a>"
      ]
    },
    {
      "cell_type": "markdown",
      "metadata": {
        "id": "22pQTdXKFm59"
      },
      "source": [
        "Variables can store data of different types, and different types can do different things.\n",
        "Python has the following data types built-in by default, in these categories:\n",
        "\n",
        "**Text Type:** str <br />\n",
        "**Numeric Types:** int, float, complex <br />\n",
        "**Sequence Types:** list, tuple, range <br />\n",
        "**Mapping Type:** dict <br />\n",
        "**Set Types:** set, frozenset <br />\n",
        "**Boolean Type:** bool <br />\n",
        "**Binary Types:** bytes, bytearray, memoryview <br />\n",
        "**None Type:** NoneType"
      ]
    },
    {
      "cell_type": "markdown",
      "metadata": {
        "id": "sotsdOEpIs9N"
      },
      "source": [
        "You can get the data type of any object by using the **type( )** function."
      ]
    },
    {
      "cell_type": "code",
      "execution_count": null,
      "metadata": {
        "colab": {
          "base_uri": "https://localhost:8080/"
        },
        "id": "0Yg9EjcHvlbU",
        "outputId": "e75aec01-b941-4baa-e4a5-0a6f0b31879b"
      },
      "outputs": [
        {
          "data": {
            "text/plain": [
              "int"
            ]
          },
          "execution_count": 1,
          "metadata": {},
          "output_type": "execute_result"
        }
      ],
      "source": [
        "x = 5\n",
        "type(x)"
      ]
    },
    {
      "cell_type": "code",
      "execution_count": null,
      "metadata": {
        "colab": {
          "base_uri": "https://localhost:8080/"
        },
        "id": "IPblQsITJuAS",
        "outputId": "ea069627-4f6d-4196-9a98-8dee4f24ea93"
      },
      "outputs": [
        {
          "name": "stdout",
          "output_type": "stream",
          "text": [
            "Hello, World!\n"
          ]
        }
      ],
      "source": [
        "\n",
        "# Comments can be used to explain Python code. Comments can be used to make the code more readable.\n",
        "# Comments can be used to prevent execution when testing code.\n",
        "# Comments starts with a #, and Python will ignore them.\n",
        "\n",
        "#print(\"Hello, World!\")\n",
        "\n",
        "print(\"Hello, World!\")\n"
      ]
    },
    {
      "cell_type": "markdown",
      "metadata": {
        "id": "GaLdGYHpLuXy"
      },
      "source": [
        "To add a multiline comment you could insert a # for each line.\n",
        "Or, not quite as intended, you can use a multiline string. Since Python will ignore string literals that are not\n",
        "assigned to a variable, you can add a multiline string (triple quotes: \"\"\") in your code, and place your\n",
        "comment inside it:"
      ]
    },
    {
      "cell_type": "code",
      "execution_count": null,
      "metadata": {
        "colab": {
          "base_uri": "https://localhost:8080/"
        },
        "id": "TlCxX27gLv1L",
        "outputId": "40f8c1a6-aa57-4a3d-cd2e-bcefd3dc43dd"
      },
      "outputs": [
        {
          "name": "stdout",
          "output_type": "stream",
          "text": [
            "Hello, World!\n"
          ]
        }
      ],
      "source": [
        "\"\"\"\n",
        "This is a comment\n",
        "written in more\n",
        "than just one line\n",
        "\"\"\"\n",
        "print(\"Hello, World!\")"
      ]
    },
    {
      "cell_type": "markdown",
      "metadata": {
        "id": "61r_e2qvMaWx"
      },
      "source": [
        "Python has no command for declaring a variable. A variable is created the moment you first assign a value to it. <br />\n",
        "Variables do not need to be declared with any particular type, and can even change type after they have been set. <br />\n",
        "Variable names are case-sensitive. Variable A and variable a are different in Python."
      ]
    },
    {
      "cell_type": "code",
      "execution_count": null,
      "metadata": {
        "id": "si8_43l0vWcp"
      },
      "outputs": [],
      "source": [
        "# Assignment Operators\n",
        "\n",
        "x = 7\n",
        "x += 3 # same as x = x + 3\n",
        "x -= 3 # same as x = x - 3\n",
        "x *= 3 # same as x = x * 3\n",
        "x /= 3 # same as x = x / 3 (Dividing just like on math)\n",
        "x %= 3 # same as x = x % 3 (Operator gives the reminder after the dividing operation)\n",
        "x //= 3 # same as x = x // 3 (Operator gives quotient of x divided by 3)\n",
        "x **= 3 # same as x = x ** 3 (Means x to the power 3)\n",
        "x &= 3 # same as x = x & 3 (& bitwise AND assignment operator. For example, if x was 6 (which is 110 in binary) before this operation, then after x &= 3, x would be 2 (since 110 AND 011 equals 010 in binary, which is 2 in decimal))\n",
        "x |= 3 # same as x = x | 3 (| bitwise OR assigment operator. For example, if x was 6 (which is 110 in binary) before this operation, then after x |= 3, x would be 2 (since 110 OR 011 equals 111 in binary, which is 7 in decimal))\n",
        "x ^= 3 # same as x = x ^ 3 (^  bitwise XOR (exclusive OR) assignment operator. For example, if x was 6 (which is 110 in binary) before this operation, then after x ^= 3, x would be 2 (since 110 XOR 011 equals 101 in binary, which is 5 in decimal))\n",
        "x >>= 3 # same as x = x >> 3 (>>  right shift assignment operator. For example, A right shift operation x >> n effectively divides x by 2^n, discarding any remainder. It's important to note that if x is a positive integer, the bits shifted in from the left are 0s. Let's calculate x >>= 3 when x = 12 to see the result. This is because the right shift operation effectively divides x by 2323 (or 8), and since 12 / 8 equals 1.5, when considering integer division, the result is 1. The bits of 12 (binary 1100) shifted right by 3 positions result in 1 (binary 0001))\n",
        "x <<= 3 # same as x = x << 3 (<< left shift assigment operator. For example, A left shift operation x << n effectively multiplies x by 2^n. Let's calculate x <<= 3 when x = 12 to see the result. This is because the left shift operation effectively multiplies x by 2323 (or 8), and since 12 * 8 equals 96, the bits of 12 (binary 1100) shifted left by 3 positions result in 96 (binary 1100000))"
      ]
    },
    {
      "cell_type": "code",
      "execution_count": null,
      "metadata": {
        "id": "o8hN9fwRHBCD"
      },
      "outputs": [],
      "source": [
        "# Comparison Operators\n",
        "\n",
        "x == y # Equal\n",
        "x != y # Not equal\n",
        "x > y # Greater than\n",
        "x < y # Less than\n",
        "x >= y # Greater than or equal to\n",
        "x <= y # Less than or equal to"
      ]
    },
    {
      "cell_type": "code",
      "execution_count": null,
      "metadata": {
        "colab": {
          "base_uri": "https://localhost:8080/"
        },
        "id": "gYNf-lQ7Z1Vf",
        "outputId": "963a5a69-113b-4341-dcf6-2db5bc604c9d"
      },
      "outputs": [
        {
          "data": {
            "text/plain": [
              "True"
            ]
          },
          "execution_count": 1,
          "metadata": {},
          "output_type": "execute_result"
        }
      ],
      "source": [
        "# Logical Operators\n",
        "\n",
        "x = 6\n",
        "\n",
        "x < 5 and x < 10 # Returns True if both statements are true\n",
        "x < 5 or x < 4 # Returns True if one of the statements is true\n",
        "not(x < 5 and x < 10) # Reverse the result, returns False if the result is true. It is true for the opposite\n"
      ]
    },
    {
      "cell_type": "code",
      "execution_count": null,
      "metadata": {
        "colab": {
          "base_uri": "https://localhost:8080/"
        },
        "id": "nkeeSxAOamn_",
        "outputId": "3658599c-026c-42e1-d357-5e474804538a"
      },
      "outputs": [
        {
          "data": {
            "text/plain": [
              "True"
            ]
          },
          "execution_count": 2,
          "metadata": {},
          "output_type": "execute_result"
        }
      ],
      "source": [
        "# Identity Operators\n",
        "\n",
        "# Identity operators are used to compare the objects, not if they are equal, but if they are actually the same object, with the same memory location:\n",
        "\n",
        "y = 6\n",
        "x = 5\n",
        "x = y\n",
        "\n",
        "x is y # Returns True if both variables are the same object\n",
        "x is not y # Returns True if both variables are not the same object"
      ]
    },
    {
      "cell_type": "code",
      "execution_count": null,
      "metadata": {
        "colab": {
          "base_uri": "https://localhost:8080/"
        },
        "id": "rLccEQzfbOdF",
        "outputId": "baaade40-24c5-4aae-a28d-c0f6e4874f33"
      },
      "outputs": [
        {
          "data": {
            "text/plain": [
              "True"
            ]
          },
          "execution_count": 4,
          "metadata": {},
          "output_type": "execute_result"
        }
      ],
      "source": [
        "# Membership Operators\n",
        "\n",
        "y = [3,2,4,1] # (y is a list. We will cover that later on the course inşAllah)\n",
        "x = 4\n",
        "\n",
        "x in y # Returns True if a sequence with the specified value is present in the object\n",
        "x not in y # Returns True if a sequence with the specified value is not present in the object"
      ]
    },
    {
      "cell_type": "code",
      "execution_count": null,
      "metadata": {
        "id": "ckj6KA5eb8_Y"
      },
      "outputs": [],
      "source": [
        "# Bitwise Operators\n",
        "\n",
        "x & y # Sets each bit to 1 if both bits are 1\n",
        "x | y # Sets each bit to 1 if one of two bits is 1\n",
        "x ^ y # Sets each bit to 1 if only one of two bits is 1\n",
        "~ x # Inverts all the bits\n",
        "x << 2 # Shift left by pushing zeros in from the right and let the leftmost bits fall off\n",
        "x >> 2 # Shift right by pushing copies of the leftmost bit in from the left, and let the rightmost bits fall off"
      ]
    },
    {
      "cell_type": "code",
      "execution_count": null,
      "metadata": {
        "colab": {
          "base_uri": "https://localhost:8080/"
        },
        "id": "R9HjV922dFh4",
        "outputId": "4c4069fc-dd9a-477d-9718-b90880a54a60"
      },
      "outputs": [
        {
          "name": "stdout",
          "output_type": "stream",
          "text": [
            "banana\n"
          ]
        }
      ],
      "source": [
        "# List: Lists are used to store multiple items in a single variable\n",
        "\n",
        "mylist = [\"apple\", \"banana\", \"cherry\"]\n",
        "\n",
        "# List items are ordered, changeable, and allow duplicate values. List items are indexed, the first item has index [0], the second item has index [1] etc.\n",
        "\n",
        "mylist = [\"apple\", \"banana\", \"cherry\", \"apple\", \"cherry\"]\n",
        "\n",
        "print(mylist[1])"
      ]
    },
    {
      "cell_type": "code",
      "execution_count": null,
      "metadata": {
        "colab": {
          "base_uri": "https://localhost:8080/"
        },
        "id": "SBgAykSreh2e",
        "outputId": "fa0f1e24-7312-4700-ca4f-05c2f1e9c335"
      },
      "outputs": [
        {
          "name": "stdout",
          "output_type": "stream",
          "text": [
            "cherry\n",
            "banana\n"
          ]
        }
      ],
      "source": [
        "mylist = [\"apple\", \"banana\", \"cherry\"]\n",
        "\n",
        "print(mylist[-1]) # Negative indexing means start from the end -1 refers to the last item, -2 refers to the second last item etc.\n",
        "print(mylist[-2])"
      ]
    },
    {
      "cell_type": "code",
      "execution_count": null,
      "metadata": {
        "colab": {
          "base_uri": "https://localhost:8080/"
        },
        "id": "rf28zjl3e2kj",
        "outputId": "6941f091-0f6f-4563-b7da-f65b5616fb00"
      },
      "outputs": [
        {
          "name": "stdout",
          "output_type": "stream",
          "text": [
            "['cherry', 'orange', 'kiwi']\n"
          ]
        }
      ],
      "source": [
        "mylist = [\"apple\", \"banana\", \"cherry\", \"orange\", \"kiwi\", \"melon\", \"mango\"]\n",
        "\n",
        "print(mylist[2:5]) # You can specify a range of indexes by specifying where to start and where to end the range. When specifying a range, the return value will be a new list with the specified items. Attention!! The last index in NOT include\n"
      ]
    },
    {
      "cell_type": "code",
      "execution_count": null,
      "metadata": {
        "colab": {
          "base_uri": "https://localhost:8080/"
        },
        "id": "iNTWhm0TfYi2",
        "outputId": "5ec224f9-8f8c-4ae3-b1e8-29f1c812af32"
      },
      "outputs": [
        {
          "name": "stdout",
          "output_type": "stream",
          "text": [
            "['apple', 'banana']\n"
          ]
        }
      ],
      "source": [
        "mylist = [\"apple\", \"banana\", \"cherry\", \"orange\", \"kiwi\", \"melon\", \"mango\"]\n",
        "\n",
        "print(mylist[:2]) # By leaving out the start value, the range will start at the first item"
      ]
    },
    {
      "cell_type": "code",
      "execution_count": null,
      "metadata": {
        "colab": {
          "base_uri": "https://localhost:8080/"
        },
        "id": "9WfZ929df6PG",
        "outputId": "971d4ba2-a318-45f6-bfa6-607b8c3dbf1b"
      },
      "outputs": [
        {
          "name": "stdout",
          "output_type": "stream",
          "text": [
            "['kiwi', 'melon', 'mango']\n"
          ]
        }
      ],
      "source": [
        "mylist = [\"apple\", \"banana\", \"cherry\", \"orange\", \"kiwi\", \"melon\", \"mango\"]\n",
        "\n",
        "print(mylist[4:]) # By leaving out the end value, the range will go on to the end of the list"
      ]
    },
    {
      "cell_type": "code",
      "execution_count": null,
      "metadata": {
        "colab": {
          "base_uri": "https://localhost:8080/"
        },
        "id": "WdcC62flgH3L",
        "outputId": "a980ca5a-830f-4afc-a640-f5d65a25a23b"
      },
      "outputs": [
        {
          "name": "stdout",
          "output_type": "stream",
          "text": [
            "['kiwi', 'melon']\n"
          ]
        }
      ],
      "source": [
        "mylist = [\"apple\", \"banana\", \"cherry\", \"orange\", \"kiwi\", \"melon\", \"mango\"]\n",
        "\n",
        "print(mylist[-3:-1]) # Specify negative indexes if you want to start the search from the end of the list"
      ]
    },
    {
      "cell_type": "code",
      "execution_count": null,
      "metadata": {
        "colab": {
          "base_uri": "https://localhost:8080/"
        },
        "id": "77bfRZa8gdq5",
        "outputId": "9c132477-adf4-4426-819e-e1974ac3a123"
      },
      "outputs": [
        {
          "data": {
            "text/plain": [
              "['apple', 'grape', 'cherry', 'orange', 'kiwi', 'melon', 'mango']"
            ]
          },
          "execution_count": 13,
          "metadata": {},
          "output_type": "execute_result"
        }
      ],
      "source": [
        "mylist = [\"apple\", \"banana\", \"cherry\", \"orange\", \"kiwi\", \"melon\", \"mango\"]\n",
        "\n",
        "mylist[1] = \"grape\"\n",
        "mylist"
      ]
    },
    {
      "cell_type": "code",
      "execution_count": null,
      "metadata": {
        "colab": {
          "base_uri": "https://localhost:8080/"
        },
        "id": "y80y0SWoyV0e",
        "outputId": "7974695e-023e-4286-cbbb-294b4409579c"
      },
      "outputs": [
        {
          "data": {
            "text/plain": [
              "['apple', 'grape', 'pear', 'orange', 'kiwi', 'melon', 'mango']"
            ]
          },
          "execution_count": 15,
          "metadata": {},
          "output_type": "execute_result"
        }
      ],
      "source": [
        "# To change the value of items within a specific range, define a list with the new values, and refer to the range of index numbers where you want to insert the new values\n",
        "\n",
        "mylist = [\"apple\", \"banana\", \"cherry\", \"orange\", \"kiwi\", \"melon\", \"mango\"]\n",
        "\n",
        "mylist[1:3] = [\"grape\", \"pear\"]\n",
        "mylist"
      ]
    },
    {
      "cell_type": "code",
      "execution_count": null,
      "metadata": {
        "colab": {
          "base_uri": "https://localhost:8080/"
        },
        "id": "bqfj9jQ-zDOB",
        "outputId": "3580cbcd-8094-4756-a61a-7408158c4ce3"
      },
      "outputs": [
        {
          "data": {
            "text/plain": [
              "['apple', 'banana', 'cherry', 'orange']"
            ]
          },
          "execution_count": 16,
          "metadata": {},
          "output_type": "execute_result"
        }
      ],
      "source": [
        "# To add an item to the end of the list, use the append() method\n",
        "\n",
        "mylist = [\"apple\", \"banana\", \"cherry\"]\n",
        "\n",
        "mylist.append(\"orange\")\n",
        "mylist"
      ]
    },
    {
      "cell_type": "code",
      "execution_count": null,
      "metadata": {
        "colab": {
          "base_uri": "https://localhost:8080/"
        },
        "id": "BPorisYWzQg-",
        "outputId": "b374d3da-1e74-424d-a971-61df238ca0ef"
      },
      "outputs": [
        {
          "data": {
            "text/plain": [
              "['apple', 'orange', 'banana', 'cherry']"
            ]
          },
          "execution_count": 17,
          "metadata": {},
          "output_type": "execute_result"
        }
      ],
      "source": [
        "# To insert a list item at a specified index, use the insert() method. The insert() method inserts an item at the specified index\n",
        "\n",
        "mylist = [\"apple\", \"banana\", \"cherry\"]\n",
        "\n",
        "mylist.insert(1, \"orange\")\n",
        "mylist"
      ]
    },
    {
      "cell_type": "code",
      "execution_count": null,
      "metadata": {
        "colab": {
          "base_uri": "https://localhost:8080/"
        },
        "id": "fS5GESUrzpwy",
        "outputId": "f03f81a9-0af2-4158-8a1b-939e7c90dbf1"
      },
      "outputs": [
        {
          "data": {
            "text/plain": [
              "['apple', 'banana', 'cherry', 'mango', 'pineapple', 'papaya']"
            ]
          },
          "execution_count": 18,
          "metadata": {},
          "output_type": "execute_result"
        }
      ],
      "source": [
        "# To append elements from another list to the current list, use the extend() method\n",
        "\n",
        "mylist = [\"apple\", \"banana\", \"cherry\"]\n",
        "addlist = [\"mango\", \"pineapple\", \"papaya\"]\n",
        "\n",
        "mylist.extend(addlist)\n",
        "mylist"
      ]
    },
    {
      "cell_type": "code",
      "execution_count": null,
      "metadata": {
        "colab": {
          "base_uri": "https://localhost:8080/"
        },
        "id": "HkmZZdKH0WXx",
        "outputId": "2dd9859b-9090-415a-a174-8681bff65b65"
      },
      "outputs": [
        {
          "data": {
            "text/plain": [
              "['apple', 'cherry']"
            ]
          },
          "execution_count": 19,
          "metadata": {},
          "output_type": "execute_result"
        }
      ],
      "source": [
        "# The remove() method removes the specified item\n",
        "mylist = [\"apple\", \"banana\", \"cherry\"]\n",
        "\n",
        "mylist.remove(\"banana\")\n",
        "mylist"
      ]
    },
    {
      "cell_type": "code",
      "execution_count": null,
      "metadata": {
        "colab": {
          "base_uri": "https://localhost:8080/"
        },
        "id": "hbjuUTvl0onq",
        "outputId": "78d2f22d-001d-4028-f276-3ad643237a8a"
      },
      "outputs": [
        {
          "data": {
            "text/plain": [
              "['apple', 'cherry']"
            ]
          },
          "execution_count": 21,
          "metadata": {},
          "output_type": "execute_result"
        }
      ],
      "source": [
        "mylist = [\"apple\", \"banana\", \"cherry\"]\n",
        "\n",
        "mylist.pop(1) # The pop() method removes the specified index\n",
        "mylist"
      ]
    },
    {
      "cell_type": "code",
      "execution_count": null,
      "metadata": {
        "colab": {
          "base_uri": "https://localhost:8080/"
        },
        "id": "8FC-iKGL0-5z",
        "outputId": "c0d0c676-6ef3-4d4f-c61e-eaf5bd993352"
      },
      "outputs": [
        {
          "data": {
            "text/plain": [
              "['apple', 'banana']"
            ]
          },
          "execution_count": 22,
          "metadata": {},
          "output_type": "execute_result"
        }
      ],
      "source": [
        "mylist = [\"apple\", \"banana\", \"cherry\"]\n",
        "\n",
        "mylist.pop() # If you do not specify the index, the pop() method removes the last item\n",
        "mylist"
      ]
    },
    {
      "cell_type": "code",
      "execution_count": null,
      "metadata": {
        "colab": {
          "base_uri": "https://localhost:8080/"
        },
        "id": "Xf-_D5k61RYY",
        "outputId": "bf4f8421-80f7-4770-88ca-71edfa199c03"
      },
      "outputs": [
        {
          "data": {
            "text/plain": [
              "['banana', 'cherry']"
            ]
          },
          "execution_count": 23,
          "metadata": {},
          "output_type": "execute_result"
        }
      ],
      "source": [
        "mylist = [\"apple\", \"banana\", \"cherry\"]\n",
        "\n",
        "del mylist[0] # The del keyword also removes the specified index\n",
        "mylist"
      ]
    },
    {
      "cell_type": "code",
      "execution_count": null,
      "metadata": {
        "colab": {
          "base_uri": "https://localhost:8080/"
        },
        "id": "jcs_eu7v1zxK",
        "outputId": "91234fe6-8601-4575-b0e8-41cf56c47367"
      },
      "outputs": [
        {
          "data": {
            "text/plain": [
              "[]"
            ]
          },
          "execution_count": 25,
          "metadata": {},
          "output_type": "execute_result"
        }
      ],
      "source": [
        "mylist = [\"apple\", \"banana\", \"cherry\"]\n",
        "\n",
        "mylist.clear() # The clear() method empties the list. The list still remains, but it has no content\n",
        "mylist"
      ]
    },
    {
      "cell_type": "code",
      "execution_count": null,
      "metadata": {
        "colab": {
          "base_uri": "https://localhost:8080/"
        },
        "id": "KWjVeINJ2H0i",
        "outputId": "491cca41-097b-465f-eceb-20e57a2dd7a3"
      },
      "outputs": [
        {
          "name": "stdout",
          "output_type": "stream",
          "text": [
            "apple\n",
            "banana\n",
            "cherry\n"
          ]
        }
      ],
      "source": [
        "mylist = [\"apple\", \"banana\", \"cherry\"]\n",
        "\n",
        "for element in mylist:  # You can loop through the list items by using a for loop. We will cover the loop topics later inşAllah\n",
        "  print(element)"
      ]
    },
    {
      "cell_type": "code",
      "execution_count": null,
      "metadata": {
        "colab": {
          "base_uri": "https://localhost:8080/"
        },
        "id": "KSIkpf863Bnj",
        "outputId": "5c60fbca-bb27-4934-ff79-3c57b54d41e0"
      },
      "outputs": [
        {
          "name": "stdout",
          "output_type": "stream",
          "text": [
            "apple\n",
            "banana\n",
            "cherry\n"
          ]
        }
      ],
      "source": [
        "mylist = [\"apple\", \"banana\", \"cherry\"]\n",
        "\n",
        "for elementIndex in range(len(mylist)): # You can also loop through the list items by referring to their index number. Use the range() and len() functions to produce a suitable iterable (range and len will be mentioned later inşAllah).\n",
        "  print(mylist[elementIndex])\n"
      ]
    },
    {
      "cell_type": "code",
      "execution_count": null,
      "metadata": {
        "colab": {
          "base_uri": "https://localhost:8080/"
        },
        "id": "mZFHnnAK4U_-",
        "outputId": "4474669a-6698-40a2-b0f7-d4911d2403b4"
      },
      "outputs": [
        {
          "name": "stdout",
          "output_type": "stream",
          "text": [
            "apple\n",
            "banana\n",
            "cherry\n"
          ]
        },
        {
          "data": {
            "text/plain": [
              "[None, None, None]"
            ]
          },
          "execution_count": 33,
          "metadata": {},
          "output_type": "execute_result"
        }
      ],
      "source": [
        "mylist = [\"apple\", \"banana\", \"cherry\"]\n",
        "\n",
        "[print(x) for x in mylist] # List Comprehension offers the shortest syntax for looping through lists\n"
      ]
    },
    {
      "cell_type": "code",
      "execution_count": null,
      "metadata": {
        "colab": {
          "base_uri": "https://localhost:8080/"
        },
        "id": "9yx1hcgK5t9A",
        "outputId": "e108ad9f-b7be-4b2b-8ddd-d36f85d4e43f"
      },
      "outputs": [
        {
          "data": {
            "text/plain": [
              "['banana', 'cherry']"
            ]
          },
          "execution_count": 34,
          "metadata": {},
          "output_type": "execute_result"
        }
      ],
      "source": [
        "mylist = [\"apple\", \"banana\", \"cherry\"]\n",
        "\n",
        "newlist = [x for x in mylist if x != \"apple\"] # The condition is like a filter that only accepts the items that valuate to True\n",
        "newlist"
      ]
    },
    {
      "cell_type": "code",
      "execution_count": null,
      "metadata": {
        "colab": {
          "base_uri": "https://localhost:8080/"
        },
        "id": "CjNkcOSo6Qkf",
        "outputId": "5bafa5d8-0a4b-44f9-bfa5-4f426683364b"
      },
      "outputs": [
        {
          "data": {
            "text/plain": [
              "['apple', 'banana', 'cherry']"
            ]
          },
          "execution_count": 36,
          "metadata": {},
          "output_type": "execute_result"
        }
      ],
      "source": [
        "mylist = [\"banana\", \"apple\", \"cherry\"]\n",
        "\n",
        "mylist.sort() # List objects have a sort() method that will sort the list alphanumerically, ascending, by default\n",
        "mylist"
      ]
    },
    {
      "cell_type": "code",
      "execution_count": null,
      "metadata": {
        "colab": {
          "base_uri": "https://localhost:8080/"
        },
        "id": "TZgcy1oQ6kEj",
        "outputId": "da6f417a-8508-4b00-9381-0eb8623d75da"
      },
      "outputs": [
        {
          "data": {
            "text/plain": [
              "['cherry', 'banana', 'apple']"
            ]
          },
          "execution_count": 37,
          "metadata": {},
          "output_type": "execute_result"
        }
      ],
      "source": [
        "mylist = [\"banana\", \"apple\", \"cherry\"]\n",
        "\n",
        "mylist.sort(reverse = True) # To sort descending, use the keyword argument reverse = True\n",
        "mylist"
      ]
    },
    {
      "cell_type": "code",
      "execution_count": null,
      "metadata": {
        "colab": {
          "base_uri": "https://localhost:8080/"
        },
        "id": "5Opqf3vq6zbP",
        "outputId": "7112469b-b2b3-466d-ca42-a2493c22508a"
      },
      "outputs": [
        {
          "data": {
            "text/plain": [
              "['banana', 'apple', 'cherry']"
            ]
          },
          "execution_count": 38,
          "metadata": {},
          "output_type": "execute_result"
        }
      ],
      "source": [
        "mylist = [\"banana\", \"apple\", \"cherry\"]\n",
        "\n",
        "newlist = mylist.copy() # You cannot copy a list simply by typing list2 = list1, because: list2 will only be a reference to list1, and changes made in list1 will automatically also be made in list2. There are ways to make a copy, one way is to use the built-in List method copy()\n",
        "newlist"
      ]
    },
    {
      "cell_type": "code",
      "execution_count": null,
      "metadata": {
        "colab": {
          "base_uri": "https://localhost:8080/"
        },
        "id": "JStQNbw67fUd",
        "outputId": "f312c6ed-ffa3-4cec-e755-ec50e04653db"
      },
      "outputs": [
        {
          "data": {
            "text/plain": [
              "['apple', 'banana', 'cherry', 'mango', 'pineapple', 'papaya']"
            ]
          },
          "execution_count": 39,
          "metadata": {},
          "output_type": "execute_result"
        }
      ],
      "source": [
        "mylist1 = [\"apple\", \"banana\", \"cherry\"]\n",
        "mylist2 = [\"mango\", \"pineapple\", \"papaya\"]\n",
        "newlist = mylist1 + mylist2   # There are several ways to join, or concatenate, two or more lists in Python. One of the easiest ways are by using the + operator\n",
        "newlist"
      ]
    },
    {
      "cell_type": "code",
      "execution_count": null,
      "metadata": {
        "colab": {
          "base_uri": "https://localhost:8080/"
        },
        "id": "3k_7r4-N8HR5",
        "outputId": "71601907-0a9e-4a49-f9b2-e529e11bb67a"
      },
      "outputs": [
        {
          "data": {
            "text/plain": [
              "('apple', 'banana', 'cherry')"
            ]
          },
          "execution_count": 1,
          "metadata": {},
          "output_type": "execute_result"
        }
      ],
      "source": [
        "# Tuple: Tuples are used to store multiple items in a single variable.\n",
        "\n",
        "# A tuple is a collection which is ordered and unchangeable and allow duplicate values\n",
        "\n",
        "# Tuple is one of 4 built-in data types in Python used to store collections of data, the other 3 are List, Set, and Dictionary, all with different qualities and usage\n",
        "\n",
        "mytuple = (\"apple\", \"banana\", \"cherry\")\n",
        "mytuple"
      ]
    },
    {
      "cell_type": "code",
      "execution_count": null,
      "metadata": {
        "colab": {
          "base_uri": "https://localhost:8080/"
        },
        "id": "dNWDJnNHJ-B1",
        "outputId": "9aeb04ec-c2f4-43eb-ce25-d5863ad184ca"
      },
      "outputs": [
        {
          "data": {
            "text/plain": [
              "('apple', 34, True, 40.3)"
            ]
          },
          "execution_count": 2,
          "metadata": {},
          "output_type": "execute_result"
        }
      ],
      "source": [
        "# Tuple items are indexed, the first item has index [0], the second item has index [1] etc.\n",
        "\n",
        "# When we say that tuples are ordered, it means that the items have a defined order, and that order will not change.\n",
        "\n",
        "# Tuple items can be of any data type\n",
        "\n",
        "tuple1 = (\"apple\", 34, True, 40.3)\n",
        "tuple1"
      ]
    },
    {
      "cell_type": "code",
      "execution_count": null,
      "metadata": {
        "colab": {
          "base_uri": "https://localhost:8080/"
        },
        "id": "LUqJQMBNKqoZ",
        "outputId": "ace06d04-7ac0-4199-80e0-a5d8e7e6855d"
      },
      "outputs": [
        {
          "name": "stdout",
          "output_type": "stream",
          "text": [
            "banana\n"
          ]
        }
      ],
      "source": [
        "mytuple = (\"apple\", \"banana\", \"cherry\")\n",
        "\n",
        "print(mytuple[1])"
      ]
    },
    {
      "cell_type": "code",
      "execution_count": null,
      "metadata": {
        "colab": {
          "base_uri": "https://localhost:8080/"
        },
        "id": "ni0SxvktKx27",
        "outputId": "a674f01d-fa30-4eff-f6fa-b127158a3024"
      },
      "outputs": [
        {
          "name": "stdout",
          "output_type": "stream",
          "text": [
            "cherry\n"
          ]
        }
      ],
      "source": [
        "mytuple = (\"apple\", \"banana\", \"cherry\")\n",
        "\n",
        "print(mytuple[-1]) # Negative indexing means start from the end. -1 refers to the last item, -2 refers to the second last item etc."
      ]
    },
    {
      "cell_type": "code",
      "execution_count": null,
      "metadata": {
        "colab": {
          "base_uri": "https://localhost:8080/"
        },
        "id": "8PPTnW8fK8_P",
        "outputId": "ec59a989-aaf5-47d3-bb5e-ce0418ae07f6"
      },
      "outputs": [
        {
          "name": "stdout",
          "output_type": "stream",
          "text": [
            "('banana', 'cherry')\n"
          ]
        }
      ],
      "source": [
        "mytuple = (\"apple\", \"banana\", \"cherry\", \"orange\")\n",
        "\n",
        "print(mytuple[1:3]) # You can specify a range of indexes by specifying where to start and where to end the range. When specifying a range, the return value will be a new tuple with the specified items."
      ]
    },
    {
      "cell_type": "code",
      "execution_count": null,
      "metadata": {
        "colab": {
          "base_uri": "https://localhost:8080/"
        },
        "id": "BcRxfzpvLX9P",
        "outputId": "1c0fa174-eafd-4b2a-b667-971ea451bd3e"
      },
      "outputs": [
        {
          "name": "stdout",
          "output_type": "stream",
          "text": [
            "('apple', 'banana')\n"
          ]
        }
      ],
      "source": [
        "mytuple = (\"apple\", \"banana\", \"cherry\", \"orange\")\n",
        "\n",
        "print(mytuple[:2]) # By leaving out the start value, the range will start at the first item."
      ]
    },
    {
      "cell_type": "code",
      "execution_count": null,
      "metadata": {
        "colab": {
          "base_uri": "https://localhost:8080/"
        },
        "id": "Z3znJUr5LpxC",
        "outputId": "9914757d-f24c-495c-91d8-4d4c7a77867c"
      },
      "outputs": [
        {
          "name": "stdout",
          "output_type": "stream",
          "text": [
            "('banana', 'cherry', 'orange')\n"
          ]
        }
      ],
      "source": [
        "mytuple = (\"apple\", \"banana\", \"cherry\", \"orange\")\n",
        "\n",
        "print(mytuple[1:]) # By leaving out the end value, the range will go on to the end of the list"
      ]
    },
    {
      "cell_type": "code",
      "execution_count": null,
      "metadata": {
        "colab": {
          "base_uri": "https://localhost:8080/"
        },
        "id": "Ee-KimfGL8J-",
        "outputId": "e64c33c3-dca4-4074-c296-f851ee57a29a"
      },
      "outputs": [
        {
          "name": "stdout",
          "output_type": "stream",
          "text": [
            "('banana', 'cherry')\n"
          ]
        }
      ],
      "source": [
        "mytuple = (\"apple\", \"banana\", \"cherry\", \"orange\")\n",
        "\n",
        "print(mytuple[-3:-1]) # Specify negative indexes if you want to start the search from the end of the tuple"
      ]
    },
    {
      "cell_type": "code",
      "execution_count": null,
      "metadata": {
        "colab": {
          "base_uri": "https://localhost:8080/"
        },
        "id": "ePly5z99MMnI",
        "outputId": "4a2b2f16-a6bd-45c3-b935-c058080f41cf"
      },
      "outputs": [
        {
          "data": {
            "text/plain": [
              "('apple', 'orange', 'cherry')"
            ]
          },
          "execution_count": 9,
          "metadata": {},
          "output_type": "execute_result"
        }
      ],
      "source": [
        "# Once a tuple is produced, you cannot change its values. Tuples are unchangeable, or immutable as it also is called\n",
        "\n",
        "# But there is a workaround. You can convert the tuple into a list, change the list, and convert the list back into a tuple\n",
        "\n",
        "mytuple = (\"apple\", \"banana\", \"cherry\")\n",
        "\n",
        "newtuple = list(mytuple)\n",
        "\n",
        "newtuple[1] = \"orange\"\n",
        "\n",
        "mytuple = tuple(newtuple)\n",
        "mytuple"
      ]
    },
    {
      "cell_type": "code",
      "execution_count": null,
      "metadata": {
        "colab": {
          "base_uri": "https://localhost:8080/"
        },
        "id": "bE4eyQRrMxDN",
        "outputId": "7b38f5a3-16eb-43a1-c944-64fd426ef7a6"
      },
      "outputs": [
        {
          "data": {
            "text/plain": [
              "('apple', 'banana', 'cherry', 'orange')"
            ]
          },
          "execution_count": 10,
          "metadata": {},
          "output_type": "execute_result"
        }
      ],
      "source": [
        "# Since tuples are immutable, they do not have a build-in append() method, but there are other ways to add items to a tuple\n",
        "\n",
        "mytuple = (\"apple\", \"banana\", \"cherry\")\n",
        "newtuple = list(mytuple)\n",
        "newtuple.append(\"orange\")\n",
        "mytuple = tuple(newtuple)\n",
        "mytuple"
      ]
    },
    {
      "cell_type": "code",
      "execution_count": null,
      "metadata": {
        "colab": {
          "base_uri": "https://localhost:8080/"
        },
        "id": "GfsfhClANPNS",
        "outputId": "ef23dc56-4891-4445-eed7-4ea73dd64d43"
      },
      "outputs": [
        {
          "data": {
            "text/plain": [
              "('apple', 'banana', 'cherry', 'orange')"
            ]
          },
          "execution_count": 11,
          "metadata": {},
          "output_type": "execute_result"
        }
      ],
      "source": [
        "# Add tuple to a tuple. You are allowed to add tuples to tuples, so if you want to add one item, (or many), produce a new tuple with the item(s), and add it to the existing tuple\n",
        "\n",
        "mytuple = (\"apple\", \"banana\", \"cherry\")\n",
        "newtuple = (\"orange\",)\n",
        "mytuple += newtuple\n",
        "mytuple"
      ]
    },
    {
      "cell_type": "code",
      "execution_count": null,
      "metadata": {
        "colab": {
          "base_uri": "https://localhost:8080/"
        },
        "id": "hNv4rBo6N3YJ",
        "outputId": "d9fcba39-86d5-4539-ac47-f991c92e5a23"
      },
      "outputs": [
        {
          "data": {
            "text/plain": [
              "('apple', 'banana')"
            ]
          },
          "execution_count": 12,
          "metadata": {},
          "output_type": "execute_result"
        }
      ],
      "source": [
        "# Tuples are unchangeable, so you cannot remove items from it, but you can use the same workaround as we used for changing and adding tuple items\n",
        "\n",
        "mytuple = (\"apple\", \"banana\", \"cherry\")\n",
        "newtuple = list(mytuple)\n",
        "newtuple.remove(\"cherry\")\n",
        "mytuple = tuple(newtuple)\n",
        "mytuple"
      ]
    },
    {
      "cell_type": "code",
      "execution_count": null,
      "metadata": {
        "colab": {
          "base_uri": "https://localhost:8080/"
        },
        "id": "BeJVUlR0OSNh",
        "outputId": "1307eefb-b738-4205-fc6c-8d252f79dadc"
      },
      "outputs": [
        {
          "name": "stdout",
          "output_type": "stream",
          "text": [
            "apple\n",
            "banana\n",
            "cherry\n"
          ]
        }
      ],
      "source": [
        "# When we produce a tuple, we normally assign values to it. This is called \"packing\" a tuple\n",
        "\n",
        "# In Python, we are also allowed to extract the values back into variables. This is called \"unpacking\"\n",
        "\n",
        "mytuple = (\"apple\", \"banana\", \"cherry\")\n",
        "\n",
        "(green, yellow, red) = mytuple\n",
        "\n",
        "print(green)\n",
        "print(yellow)\n",
        "print(red)"
      ]
    },
    {
      "cell_type": "code",
      "execution_count": null,
      "metadata": {
        "colab": {
          "base_uri": "https://localhost:8080/"
        },
        "id": "GEY0f-lWPH7v",
        "outputId": "502c2d63-f15b-4979-e486-167e4651b3d9"
      },
      "outputs": [
        {
          "name": "stdout",
          "output_type": "stream",
          "text": [
            "apple\n",
            "banana\n",
            "cherry\n"
          ]
        }
      ],
      "source": [
        "# You can loop through the tuple items by using a for loop\n",
        "\n",
        "mytuple = (\"apple\", \"banana\", \"cherry\")\n",
        "\n",
        "for elementIndex in mytuple:\n",
        "  print(elementIndex)"
      ]
    },
    {
      "cell_type": "code",
      "execution_count": null,
      "metadata": {
        "colab": {
          "base_uri": "https://localhost:8080/"
        },
        "id": "s4mXbJqLPk1S",
        "outputId": "54319276-e2fb-48ab-a672-293314ec7936"
      },
      "outputs": [
        {
          "output_type": "stream",
          "name": "stdout",
          "text": [
            "apple\n",
            "banana\n",
            "cherry\n"
          ]
        }
      ],
      "source": [
        "# You can also loop through the tuple items by referring to their index number. Use the range() and len() functions to produce a suitable iterable\n",
        "\n",
        "mytuple = (\"apple\", \"banana\", \"cherry\")\n",
        "\n",
        "for elementIndex in range(len(mytuple)):\n",
        "  print(mytuple[elementIndex])"
      ]
    },
    {
      "cell_type": "code",
      "source": [
        "mytuple1 = (\"apple\", \"banana\", \"cherry\")\n",
        "mytuple2 = (\"mango\", \"pineapple\", \"papaya\")\n",
        "newtuple = mytuple1 + mytuple2 # To join two or more tuples you can use the + operator\n",
        "newtuple"
      ],
      "metadata": {
        "colab": {
          "base_uri": "https://localhost:8080/"
        },
        "id": "fhm-KJu5WEd8",
        "outputId": "8935b30e-133c-423c-f888-71a38c4937bd"
      },
      "execution_count": null,
      "outputs": [
        {
          "output_type": "execute_result",
          "data": {
            "text/plain": [
              "('apple', 'banana', 'cherry', 'mango', 'pineapple', 'papaya')"
            ]
          },
          "metadata": {},
          "execution_count": 2
        }
      ]
    },
    {
      "cell_type": "code",
      "source": [
        "mytuple = (\"apple\", \"banana\", \"cherry\")\n",
        "newtuple = mytuple * 2 # If you want to multiply the content of a tuple a given number of times, you can use the * operator\n",
        "newtuple"
      ],
      "metadata": {
        "colab": {
          "base_uri": "https://localhost:8080/"
        },
        "id": "3xdZUxsSWYwd",
        "outputId": "6adfa4bd-50fd-4a05-8ed5-f54a7be81e23"
      },
      "execution_count": null,
      "outputs": [
        {
          "output_type": "execute_result",
          "data": {
            "text/plain": [
              "('apple', 'banana', 'cherry', 'apple', 'banana', 'cherry')"
            ]
          },
          "metadata": {},
          "execution_count": 3
        }
      ]
    },
    {
      "cell_type": "code",
      "source": [
        "# Python has two built-in methods that you can use on tuples\n",
        "\n",
        "# count() --> Returns the number of times a specified value occurs in a tuple\n",
        "\n",
        "mytuple = (1,2,344,3,2,1,2,2,21)\n",
        "mytuple.count(2)"
      ],
      "metadata": {
        "colab": {
          "base_uri": "https://localhost:8080/"
        },
        "id": "4LHme-HDWups",
        "outputId": "d1d1c7e4-59de-4417-f0ff-8b358d15dcd0"
      },
      "execution_count": null,
      "outputs": [
        {
          "output_type": "execute_result",
          "data": {
            "text/plain": [
              "4"
            ]
          },
          "metadata": {},
          "execution_count": 5
        }
      ]
    },
    {
      "cell_type": "code",
      "source": [
        "# index() --> Searches the tuple for a specified value and returns the position of where it was found\n",
        "\n",
        "mytuple = (2,1,21,2,5,8,895)\n",
        "mytuple.index(895)"
      ],
      "metadata": {
        "colab": {
          "base_uri": "https://localhost:8080/"
        },
        "id": "Bmf3sXIEXHsI",
        "outputId": "975601e7-e282-4d6b-a237-41f1f2f5d5ca"
      },
      "execution_count": null,
      "outputs": [
        {
          "output_type": "execute_result",
          "data": {
            "text/plain": [
              "6"
            ]
          },
          "metadata": {},
          "execution_count": 6
        }
      ]
    },
    {
      "cell_type": "code",
      "source": [
        "# Dictionaries are used to store data values in key:value pairs\n",
        "\n",
        "# A dictionary is a collection which is ordered, changeable and do not allow duplicates\n",
        "\n",
        "# As of Python version 3.7, dictionaries are ordered. In Python 3.6 and earlier, dictionaries are unordered\n",
        "\n",
        "mydict = {\n",
        "    \"brand\": \"Ford\",\n",
        "    \"model\": \"Mustang\",\n",
        "    \"year\": 1964\n",
        "}\n",
        "\n",
        "mydict"
      ],
      "metadata": {
        "colab": {
          "base_uri": "https://localhost:8080/"
        },
        "id": "cib1m1MQXVP8",
        "outputId": "4a12d77b-d68f-47eb-f271-7b010ed31e8b"
      },
      "execution_count": null,
      "outputs": [
        {
          "output_type": "execute_result",
          "data": {
            "text/plain": [
              "{'brand': 'Ford', 'model': 'Mustang', 'year': 1964}"
            ]
          },
          "metadata": {},
          "execution_count": 7
        }
      ]
    },
    {
      "cell_type": "code",
      "source": [
        "# Dictionary items are presented in key:value pairs, and can be referred to by using the key name\n",
        "\n",
        "mydict = {\n",
        "    \"brand\": \"Ford\",\n",
        "    \"model\": \"Mustang\",\n",
        "    \"year\": 1964\n",
        "}\n",
        "\n",
        "mydict[\"brand\"]"
      ],
      "metadata": {
        "colab": {
          "base_uri": "https://localhost:8080/",
          "height": 35
        },
        "id": "bxlYf5gAYC2J",
        "outputId": "612e2c3f-6d7a-4e6a-b095-ac3b9dc7e73f"
      },
      "execution_count": null,
      "outputs": [
        {
          "output_type": "execute_result",
          "data": {
            "text/plain": [
              "'Ford'"
            ],
            "application/vnd.google.colaboratory.intrinsic+json": {
              "type": "string"
            }
          },
          "metadata": {},
          "execution_count": 8
        }
      ]
    },
    {
      "cell_type": "code",
      "source": [
        "# The values in dictionary items can be of any data type\n",
        "\n",
        "mydict = {\n",
        "    \"brand\": \"Ford\",\n",
        "    \"electric\": False,\n",
        "    \"year\": 1964,\n",
        "    \"colors\": [\"red\", \"white\", \"blue\"]\n",
        "}"
      ],
      "metadata": {
        "id": "7WMe7AUrYhty"
      },
      "execution_count": null,
      "outputs": []
    },
    {
      "cell_type": "code",
      "source": [
        "# The keys() method will return a list of all the keys in the dictionary\n",
        "\n",
        "mydict = {\"brand\":\"Ford\", \"model\": \"Mustang\", \"year\": 1964}\n",
        "x = mydict.keys()\n",
        "x"
      ],
      "metadata": {
        "colab": {
          "base_uri": "https://localhost:8080/"
        },
        "id": "prKsLoFBZDaw",
        "outputId": "000a3616-77a5-477b-c11b-022b5f1703d3"
      },
      "execution_count": null,
      "outputs": [
        {
          "output_type": "execute_result",
          "data": {
            "text/plain": [
              "dict_keys(['brand', 'model', 'year'])"
            ]
          },
          "metadata": {},
          "execution_count": 9
        }
      ]
    },
    {
      "cell_type": "code",
      "source": [
        "# You can change the value of a specific item by referring to its key name\n",
        "\n",
        "mydict = {\"brand\": \"Ford\", \"model\": \"Mustang\", \"year\": 1964}\n",
        "mydict[\"year\"] = 2018\n",
        "mydict"
      ],
      "metadata": {
        "colab": {
          "base_uri": "https://localhost:8080/"
        },
        "id": "jcv6rAd4ZdAS",
        "outputId": "8c9e0565-12ce-4660-95ba-40cf10ea74b1"
      },
      "execution_count": null,
      "outputs": [
        {
          "output_type": "execute_result",
          "data": {
            "text/plain": [
              "{'brand': 'Ford', 'model': 'Mustang', 'year': 2018}"
            ]
          },
          "metadata": {},
          "execution_count": 10
        }
      ]
    },
    {
      "cell_type": "code",
      "source": [
        "mydict = {\"brand\": \"Ford\", \"model\": \"Mustang\", \"year\": 1964}\n",
        "mydict[\"color\"] = \"red\"\n",
        "mydict"
      ],
      "metadata": {
        "colab": {
          "base_uri": "https://localhost:8080/"
        },
        "id": "eRqXOwS-bT2i",
        "outputId": "65afde00-4c7c-4e00-e3ed-82046e74809a"
      },
      "execution_count": null,
      "outputs": [
        {
          "output_type": "execute_result",
          "data": {
            "text/plain": [
              "{'brand': 'Ford', 'model': 'Mustang', 'year': 1964, 'color': 'red'}"
            ]
          },
          "metadata": {},
          "execution_count": 11
        }
      ]
    },
    {
      "cell_type": "code",
      "source": [
        "# There are several methods to remove items from a dictionary\n",
        "\n",
        "mydict = {\"brand\": \"Ford\", \"model\": \"Mustang\", \"year\": 1964}\n",
        "mydict.pop(\"model\")\n",
        "mydict"
      ],
      "metadata": {
        "colab": {
          "base_uri": "https://localhost:8080/"
        },
        "id": "D_GprUG3bjIP",
        "outputId": "8f11071a-a764-436f-f0d7-39b74fbaf655"
      },
      "execution_count": null,
      "outputs": [
        {
          "output_type": "execute_result",
          "data": {
            "text/plain": [
              "{'brand': 'Ford', 'year': 1964}"
            ]
          },
          "metadata": {},
          "execution_count": 12
        }
      ]
    },
    {
      "cell_type": "code",
      "source": [
        "# The del keyword removes the item with the specified key name\n",
        "\n",
        "mydict = {\"brand\": \"Ford\", \"model\": \"Mustang\", \"year\": 1964}\n",
        "del mydict[\"model\"]\n",
        "mydict"
      ],
      "metadata": {
        "colab": {
          "base_uri": "https://localhost:8080/"
        },
        "id": "q4i2aS78cwrC",
        "outputId": "a7c7fec4-40c4-42bd-f9dd-e566bff76912"
      },
      "execution_count": null,
      "outputs": [
        {
          "output_type": "execute_result",
          "data": {
            "text/plain": [
              "{'brand': 'Ford', 'year': 1964}"
            ]
          },
          "metadata": {},
          "execution_count": 13
        }
      ]
    },
    {
      "cell_type": "code",
      "source": [
        "# You can loop through a dictionary by using a for loop. When looping through a dictionary, the return value are the keys of the dictionary, but there are methods to return the values as well\n",
        "\n",
        "mydict = {\"brand\": \"Ford\", \"model\": \"Mustang\", \"year\": 1964}\n",
        "\n",
        "for dict_keys in mydict:\n",
        "  print(dict_keys)"
      ],
      "metadata": {
        "colab": {
          "base_uri": "https://localhost:8080/"
        },
        "id": "nnX4DbOUdGJV",
        "outputId": "40eb8fb8-96dd-4c08-9eaf-4a4faee6f53d"
      },
      "execution_count": null,
      "outputs": [
        {
          "output_type": "stream",
          "name": "stdout",
          "text": [
            "brand\n",
            "model\n",
            "year\n"
          ]
        }
      ]
    },
    {
      "cell_type": "code",
      "source": [
        "# You can use the keys() method to return the keys of a dictionary\n",
        "\n",
        "mydict = {\"brand\": \"Ford\", \"model\": \"Mustang\", \"year\": 1964}\n",
        "\n",
        "for dict_keys in mydict.keys():\n",
        "  print(dict_keys)"
      ],
      "metadata": {
        "colab": {
          "base_uri": "https://localhost:8080/"
        },
        "id": "4w3WgjCudpr1",
        "outputId": "bb540fdb-9256-43d0-dbdb-d25f574bb87e"
      },
      "execution_count": null,
      "outputs": [
        {
          "output_type": "stream",
          "name": "stdout",
          "text": [
            "brand\n",
            "model\n",
            "year\n"
          ]
        }
      ]
    },
    {
      "cell_type": "code",
      "source": [
        "# Print all values in the dictionary, one by one\n",
        "\n",
        "mydict = {\"brand\": \"Ford\", \"model\": \"Mustang\", \"year\": 1964}\n",
        "\n",
        "for dict_keys in mydict:\n",
        "  print(mydict[dict_keys])"
      ],
      "metadata": {
        "colab": {
          "base_uri": "https://localhost:8080/"
        },
        "id": "a2XGFGEhe6ez",
        "outputId": "15ee3a50-0024-4ee6-89c2-312c56f63184"
      },
      "execution_count": null,
      "outputs": [
        {
          "output_type": "stream",
          "name": "stdout",
          "text": [
            "Ford\n",
            "Mustang\n",
            "1964\n"
          ]
        }
      ]
    },
    {
      "cell_type": "code",
      "source": [
        "# You can also use the values() method to return values of a dictionary\n",
        "\n",
        "mydict = {\"brand\": \"Ford\", \"model\": \"Mustang\", \"year\": 1964}\n",
        "\n",
        "for dict_values in mydict.values():\n",
        "  print(dict_values)"
      ],
      "metadata": {
        "colab": {
          "base_uri": "https://localhost:8080/"
        },
        "id": "JV50epdgfgX-",
        "outputId": "339bb8e8-c45c-4d21-8414-155a62bbfbd8"
      },
      "execution_count": null,
      "outputs": [
        {
          "output_type": "stream",
          "name": "stdout",
          "text": [
            "Ford\n",
            "Mustang\n",
            "1964\n"
          ]
        }
      ]
    },
    {
      "cell_type": "code",
      "source": [
        "# Loop through both keys and values, by using the items() method\n",
        "\n",
        "mydict = {\"brand\": \"Ford\", \"model\": \"Mustang\", \"year\": 1964}\n",
        "\n",
        "for key, value in mydict.items():\n",
        "  print(key, value)"
      ],
      "metadata": {
        "colab": {
          "base_uri": "https://localhost:8080/"
        },
        "id": "_a8UMkRrfzo4",
        "outputId": "62b99628-810d-47c8-d751-676c1ee1a81a"
      },
      "execution_count": null,
      "outputs": [
        {
          "output_type": "stream",
          "name": "stdout",
          "text": [
            "brand Ford\n",
            "model Mustang\n",
            "year 1964\n"
          ]
        }
      ]
    },
    {
      "cell_type": "code",
      "source": [
        "# You cannot copy a dictionary simply by typing dict2 = dict1, because: dict2 will only be a reference to dict1, and changes made in dict1 will automatically also be made in dict2\n",
        "\n",
        "# There are ways to make a copy, one way is to use the built-in Dictionary method copy()\n",
        "\n",
        "mydict = {\"brand\": \"Ford\", \"model\": \"Mustang\", \"year\": 1964}\n",
        "newdict = mydict.copy()\n",
        "newdict"
      ],
      "metadata": {
        "colab": {
          "base_uri": "https://localhost:8080/"
        },
        "id": "K6jq1G4CgPCF",
        "outputId": "581f6955-f3b4-4bd6-ba18-9e2ed2d25457"
      },
      "execution_count": null,
      "outputs": [
        {
          "output_type": "execute_result",
          "data": {
            "text/plain": [
              "{'brand': 'Ford', 'model': 'Mustang', 'year': 1964}"
            ]
          },
          "metadata": {},
          "execution_count": 22
        }
      ]
    },
    {
      "cell_type": "code",
      "source": [
        "# Python has a set of built-in methods that you can use on dictionaries\n",
        "\n",
        "# clear() --> Removes all the elements from the dictionary\n",
        "# fromkeys() --> Returns a dictionary with the specified keys and value\n",
        "# get() --> Returns the value of the specified key\n",
        "# popitem() --> Removes the last inserted key-value pair\n",
        "# setdefault() --> Returns the value of the specified key. If the key does not exist: insert the key, with the specified value\n",
        "# update() --> Updates the dictionary with the specified key-value pairs"
      ],
      "metadata": {
        "id": "pntMaZYYiW0q"
      },
      "execution_count": null,
      "outputs": []
    },
    {
      "cell_type": "code",
      "source": [
        "# Python supports the usual logical conditions from mathematics\n",
        "\n",
        "# Python relies on indentation (whitespace at the beginning of a line) to define scope in the code. Other programming languages often use curly-brackets for this purpose\n",
        "\n",
        "a = 10\n",
        "b = 20\n",
        "\n",
        "if b > a:\n",
        "  print(\"b is greater than a\")"
      ],
      "metadata": {
        "colab": {
          "base_uri": "https://localhost:8080/"
        },
        "id": "1Wl6tGLbkHQP",
        "outputId": "51dda4e0-e09e-403a-ad91-18c1d00cdbf6"
      },
      "execution_count": null,
      "outputs": [
        {
          "output_type": "stream",
          "name": "stdout",
          "text": [
            "b is greater than a\n"
          ]
        }
      ]
    },
    {
      "cell_type": "code",
      "source": [
        "# The else keyword catches anything which isn't caught by the preceding conditions\n",
        "\n",
        "a = 10\n",
        "b = 20\n",
        "\n",
        "if b > a:\n",
        "  print(\"b is greater than a\")\n",
        "else:\n",
        "  print(\"a is grater than b\")"
      ],
      "metadata": {
        "colab": {
          "base_uri": "https://localhost:8080/"
        },
        "id": "4G5qdwdlknEK",
        "outputId": "75ac1e56-d785-4da3-a321-0851205990d5"
      },
      "execution_count": null,
      "outputs": [
        {
          "output_type": "stream",
          "name": "stdout",
          "text": [
            "b is greater than a\n"
          ]
        }
      ]
    },
    {
      "cell_type": "code",
      "source": [
        "# The elif keyword is Python's way of saying \"if the previous conditions were not true, then try this condition\"\n",
        "\n",
        "a = 10\n",
        "b = 10\n",
        "\n",
        "if b > a:\n",
        "  print(\"b is greater than a\")\n",
        "elif a == b:\n",
        "  print(\"a and b are equal\")"
      ],
      "metadata": {
        "colab": {
          "base_uri": "https://localhost:8080/"
        },
        "id": "8IwTZ92UlL7d",
        "outputId": "c8128bc6-9946-49dc-8fb5-d44f93fd46de"
      },
      "execution_count": null,
      "outputs": [
        {
          "output_type": "stream",
          "name": "stdout",
          "text": [
            "a and b are equal\n"
          ]
        }
      ]
    },
    {
      "cell_type": "code",
      "source": [
        "# If you have only one statement to execute, you can put it on the same line as the if statement\n",
        "\n",
        "a = 10\n",
        "b = 5\n",
        "\n",
        "if a > b: print(\"a is greater than b\")"
      ],
      "metadata": {
        "colab": {
          "base_uri": "https://localhost:8080/"
        },
        "id": "bsbHgMq3ljUX",
        "outputId": "1a0f3ff2-01c4-4ea4-edcc-d43d37929f11"
      },
      "execution_count": null,
      "outputs": [
        {
          "output_type": "stream",
          "name": "stdout",
          "text": [
            "a is greater than b\n"
          ]
        }
      ]
    },
    {
      "cell_type": "code",
      "source": [
        "# If you have only one statement to execute, one for if, and one for else, you can put it all on the same line\n",
        "\n",
        "a = 10\n",
        "b = 20\n",
        "print(\"a\") if a > b else print(\"b\")"
      ],
      "metadata": {
        "colab": {
          "base_uri": "https://localhost:8080/"
        },
        "id": "_PG6RIE4ly9W",
        "outputId": "36413b4e-2eb6-4e19-c58b-c6b656e9dd7e"
      },
      "execution_count": null,
      "outputs": [
        {
          "output_type": "stream",
          "name": "stdout",
          "text": [
            "b\n"
          ]
        }
      ]
    },
    {
      "cell_type": "code",
      "source": [
        "# With the while loop we can execute a set of statements as long as a condition is true\n",
        "\n",
        "i = 1\n",
        "\n",
        "while i < 6:\n",
        "  print(i)\n",
        "  i += 1"
      ],
      "metadata": {
        "colab": {
          "base_uri": "https://localhost:8080/"
        },
        "id": "9YReVuI1mBlP",
        "outputId": "29548177-8949-44da-8b1c-d30dfcacad90"
      },
      "execution_count": null,
      "outputs": [
        {
          "output_type": "stream",
          "name": "stdout",
          "text": [
            "1\n",
            "2\n",
            "3\n",
            "4\n",
            "5\n"
          ]
        }
      ]
    },
    {
      "cell_type": "code",
      "source": [
        "# With the break statement we can stop the loop even if the while condition is true\n",
        "\n",
        "i = 1\n",
        "\n",
        "while i < 6:\n",
        "  print(i)\n",
        "  if i == 3:\n",
        "    break\n",
        "  i += 1"
      ],
      "metadata": {
        "colab": {
          "base_uri": "https://localhost:8080/"
        },
        "id": "B7I2jONcmRan",
        "outputId": "625d023f-4ee0-4faf-ebf6-ce8efad1a63a"
      },
      "execution_count": null,
      "outputs": [
        {
          "output_type": "stream",
          "name": "stdout",
          "text": [
            "1\n",
            "2\n",
            "3\n"
          ]
        }
      ]
    },
    {
      "cell_type": "code",
      "source": [
        "# With the continue statement we can stop the current iteration, and continue with the next\n",
        "\n",
        "i = 0\n",
        "\n",
        "while i < 6:\n",
        "  i += 1\n",
        "  if i == 3:\n",
        "    continue\n",
        "  print(i)"
      ],
      "metadata": {
        "colab": {
          "base_uri": "https://localhost:8080/"
        },
        "id": "iNEu0_0Emfro",
        "outputId": "ed5c22d6-63a3-4cbd-983f-0dc110497d7f"
      },
      "execution_count": null,
      "outputs": [
        {
          "output_type": "stream",
          "name": "stdout",
          "text": [
            "1\n",
            "2\n",
            "4\n",
            "5\n",
            "6\n"
          ]
        }
      ]
    },
    {
      "cell_type": "code",
      "source": [
        "# With the else statement we can run a block of code once when the condition no longer is true\n",
        "\n",
        "i = 1\n",
        "\n",
        "while i < 6:\n",
        "  print(i)\n",
        "  i += 1\n",
        "else:\n",
        "  print(\"i is no longer less than 6\")"
      ],
      "metadata": {
        "colab": {
          "base_uri": "https://localhost:8080/"
        },
        "id": "9O3aZ0B_sHeP",
        "outputId": "2d0f5e8c-8bc6-42ec-8991-b30c40afa8c0"
      },
      "execution_count": null,
      "outputs": [
        {
          "output_type": "stream",
          "name": "stdout",
          "text": [
            "1\n",
            "2\n",
            "3\n",
            "4\n",
            "5\n",
            "i is no longer less than 6\n"
          ]
        }
      ]
    },
    {
      "cell_type": "code",
      "source": [
        "\"\"\"\n",
        "A for loop is used for iterating over a sequence (that is either a list, a tuple, a dictionary, a set, or a string).\n",
        "This is less like the for keyword in other programming languages, and works more like an iterator method as found in other object-orientated programming languages.\n",
        "With the for loop we can execute a set of statements, once for each item in a list, tuple, set etc.\n",
        "\"\"\"\n",
        "\n",
        "fruits = [\"apple\", \"banana\", \"cherry\"]\n",
        "\n",
        "for item in fruits:\n",
        "  print(item)"
      ],
      "metadata": {
        "colab": {
          "base_uri": "https://localhost:8080/"
        },
        "id": "VFAzxtH-sqHq",
        "outputId": "6d5d0d5c-942c-4cb2-f654-4529baa181a4"
      },
      "execution_count": null,
      "outputs": [
        {
          "output_type": "stream",
          "name": "stdout",
          "text": [
            "apple\n",
            "banana\n",
            "cherry\n"
          ]
        }
      ]
    },
    {
      "cell_type": "code",
      "source": [
        "# With the break statement we can stop the loop before it has looped through all the items\n",
        "\n",
        "fruits = [\"apple\", \"banana\", \"cherry\"]\n",
        "\n",
        "for item in fruits:\n",
        "  print(item)\n",
        "  if item == \"banana\":\n",
        "    break"
      ],
      "metadata": {
        "colab": {
          "base_uri": "https://localhost:8080/"
        },
        "id": "uN2Nm68d4x3Q",
        "outputId": "60246681-1362-4ad2-dae5-c7b56643bfc9"
      },
      "execution_count": null,
      "outputs": [
        {
          "output_type": "stream",
          "name": "stdout",
          "text": [
            "apple\n",
            "banana\n"
          ]
        }
      ]
    },
    {
      "cell_type": "code",
      "source": [
        "# With the continue statement we can stop the current iteration of the loop, and continue with the next\n",
        "\n",
        "fruits = [\"apple\", \"banana\", \"cherry\"]\n",
        "\n",
        "for item in fruits:\n",
        "  if item == \"banana\":\n",
        "    continue\n",
        "  print(item)"
      ],
      "metadata": {
        "colab": {
          "base_uri": "https://localhost:8080/"
        },
        "id": "23CglYds5YKA",
        "outputId": "4340c657-51dd-404c-a08c-115dedccb3a0"
      },
      "execution_count": null,
      "outputs": [
        {
          "output_type": "stream",
          "name": "stdout",
          "text": [
            "apple\n",
            "cherry\n"
          ]
        }
      ]
    },
    {
      "cell_type": "code",
      "source": [
        "# To loop through a set of code a specified number of times, we can use the range() function. The range() function returns a sequence of numbers, starting from 0 by default, and increments by 1 (by default), and ends at a specified number\n",
        "# Attention! the last number is not included\n",
        "\n",
        "for number in range(10):\n",
        "  print(number)"
      ],
      "metadata": {
        "colab": {
          "base_uri": "https://localhost:8080/"
        },
        "id": "8uUu100D6V1B",
        "outputId": "9179b0b6-4fe2-406e-8b3a-cb440e4a73a0"
      },
      "execution_count": null,
      "outputs": [
        {
          "output_type": "stream",
          "name": "stdout",
          "text": [
            "0\n",
            "1\n",
            "2\n",
            "3\n",
            "4\n",
            "5\n",
            "6\n",
            "7\n",
            "8\n",
            "9\n"
          ]
        }
      ]
    },
    {
      "cell_type": "code",
      "source": [
        "for number in range(5, 10):  # starting point and ending point\n",
        "  print(number)"
      ],
      "metadata": {
        "colab": {
          "base_uri": "https://localhost:8080/"
        },
        "id": "D3XTzZxU60vg",
        "outputId": "8b2431fe-510d-4985-d042-f66d52be603a"
      },
      "execution_count": null,
      "outputs": [
        {
          "output_type": "stream",
          "name": "stdout",
          "text": [
            "5\n",
            "6\n",
            "7\n",
            "8\n",
            "9\n"
          ]
        }
      ]
    },
    {
      "cell_type": "code",
      "source": [
        "for number in range(1, 10, 3):  # startin point, ending point, incrementing amount\n",
        "  print(number)"
      ],
      "metadata": {
        "colab": {
          "base_uri": "https://localhost:8080/"
        },
        "id": "tSambt1U6-0Z",
        "outputId": "bd50b775-2251-4061-cb82-37868b404858"
      },
      "execution_count": null,
      "outputs": [
        {
          "output_type": "stream",
          "name": "stdout",
          "text": [
            "1\n",
            "4\n",
            "7\n"
          ]
        }
      ]
    },
    {
      "cell_type": "code",
      "source": [
        "# A function is a block of code which only runs when it is called. You can pass data, known as parameters, into a function. A function can return data as a result\n",
        "\n",
        "# In Python a function is defined using the def keyword\n",
        "\n",
        "def my_function():\n",
        "  print(\"Hello from a function\")\n",
        "\n",
        "my_function() # We have to call the function if we want to use it"
      ],
      "metadata": {
        "colab": {
          "base_uri": "https://localhost:8080/"
        },
        "id": "iRzAXvne7QO8",
        "outputId": "05bf71a2-358d-422f-c57a-c63c193fa394"
      },
      "execution_count": null,
      "outputs": [
        {
          "output_type": "stream",
          "name": "stdout",
          "text": [
            "Hello from a function\n"
          ]
        }
      ]
    },
    {
      "cell_type": "code",
      "source": [
        "# Information can be passed into functions as arguments. Arguments are specified after the function name, inside the parentheses. You can add as many arguments as you want, just separate them with a comma\n",
        "\n",
        "def my_function(name):\n",
        "  print(\"Hello, \" + name)\n",
        "\n",
        "my_function(\"Ali\")"
      ],
      "metadata": {
        "colab": {
          "base_uri": "https://localhost:8080/"
        },
        "id": "DaQmO-wh8rcz",
        "outputId": "76d61d45-2597-4ed8-afa9-cfb7057ea799"
      },
      "execution_count": null,
      "outputs": [
        {
          "output_type": "stream",
          "name": "stdout",
          "text": [
            "Hello, Ali\n"
          ]
        }
      ]
    },
    {
      "cell_type": "code",
      "source": [
        "# If you do not know how many arguments that will be passed into your function, add a * before the parameter name in the function definition. This way the function will receive a TUPLE of arguments, and can access the items accordingly\n",
        "\n",
        "def my_function(*names):\n",
        "  print(\"Their names are \" + names[0], names[1], names[2], names[3])\n",
        "\n",
        "my_function(\"Ahmet\", \"John\", \"Hakan\", \"Elif\")"
      ],
      "metadata": {
        "colab": {
          "base_uri": "https://localhost:8080/"
        },
        "id": "z2HfI5ca9D0M",
        "outputId": "21f9f6ed-8321-4001-ff43-69770af48a46"
      },
      "execution_count": null,
      "outputs": [
        {
          "output_type": "stream",
          "name": "stdout",
          "text": [
            "Their names are Ahmet John Hakan Elif\n"
          ]
        }
      ]
    },
    {
      "cell_type": "code",
      "source": [
        "# If you do not know how many keyword (DICTIONARY) arguments that will be passed into your function, add two asterisk: ** before the parameter name in the function definition\n",
        "\n",
        "def my_function(**person):\n",
        "  print(\"Last name is \"+ person[\"lastname\"])\n",
        "\n",
        "my_function(firstname = \"X\", lastname = \"Y\")"
      ],
      "metadata": {
        "colab": {
          "base_uri": "https://localhost:8080/"
        },
        "id": "YoqUtNQ4-XW5",
        "outputId": "eb99b52c-dfe2-4519-e9f7-01ecb4e0ab26"
      },
      "execution_count": null,
      "outputs": [
        {
          "output_type": "stream",
          "name": "stdout",
          "text": [
            "Last name is Y\n"
          ]
        }
      ]
    },
    {
      "cell_type": "code",
      "source": [
        "# The following example shows how to use a default parameter value. If we call the function without argument, it uses the default value\n",
        "\n",
        "def my_function(country = \"Norway\"):\n",
        "  print(\"I am from \" + country)\n",
        "\n",
        "my_function()\n",
        "my_function(\"Brazil\")"
      ],
      "metadata": {
        "colab": {
          "base_uri": "https://localhost:8080/"
        },
        "id": "vqFx4EJv-8su",
        "outputId": "613db3e5-78ef-4903-fce6-55c650b01d2e"
      },
      "execution_count": null,
      "outputs": [
        {
          "output_type": "stream",
          "name": "stdout",
          "text": [
            "I am from Norway\n",
            "I am from Brazil\n"
          ]
        }
      ]
    },
    {
      "cell_type": "code",
      "source": [
        "# You can send any data types of argument to a function (string, number, list, dictionary etc.), and it will be treated as the same data type inside the function\n",
        "\n",
        "def my_function(food):\n",
        "  for item in food:\n",
        "    print(item)\n",
        "\n",
        "fruits = [\"apple\", \"banana\", \"cherry\"]\n",
        "\n",
        "my_function(fruits)"
      ],
      "metadata": {
        "colab": {
          "base_uri": "https://localhost:8080/"
        },
        "id": "JiQhHJDlA3v6",
        "outputId": "9aa823ff-9e80-46b4-b391-f3350130e3d0"
      },
      "execution_count": null,
      "outputs": [
        {
          "output_type": "stream",
          "name": "stdout",
          "text": [
            "apple\n",
            "banana\n",
            "cherry\n"
          ]
        }
      ]
    },
    {
      "cell_type": "code",
      "source": [
        "# To let a function return a value, use the return statement\n",
        "\n",
        "def my_function(x):\n",
        "  return 5 * x\n",
        "\n",
        "print(my_function(4))"
      ],
      "metadata": {
        "colab": {
          "base_uri": "https://localhost:8080/"
        },
        "id": "nBKC2FJyBZQ6",
        "outputId": "b9b06e7a-40b1-4d33-fa8a-53f76b748509"
      },
      "execution_count": null,
      "outputs": [
        {
          "output_type": "stream",
          "name": "stdout",
          "text": [
            "20\n"
          ]
        }
      ]
    },
    {
      "cell_type": "code",
      "source": [
        "# Function definitions cannot be empty, but if you for some reason have a function definition with no content,put in the pass statement to avoid getting an error\n",
        "\n",
        "def my_function():\n",
        "  pass"
      ],
      "metadata": {
        "id": "g5OYwPhMBqY6"
      },
      "execution_count": null,
      "outputs": []
    },
    {
      "cell_type": "code",
      "source": [
        "\"\"\"\n",
        "Python also accepts function recursion, which means a defined function can call itself.\n",
        "Recursion is a common mathematical and programming concept. It means that a function calls itself. This has the benefit of meaning that you can loop through data to reach a result\n",
        "\"\"\""
      ],
      "metadata": {
        "id": "q6S5nvV0B0Gi"
      },
      "execution_count": null,
      "outputs": []
    },
    {
      "cell_type": "code",
      "source": [
        "# A lambda function is a small anonymous function. A lambda function can take any number of arguments, but can only have one expression.\n",
        "\n",
        "x = lambda a : a + 10\n",
        "\n",
        "print(x(5))"
      ],
      "metadata": {
        "colab": {
          "base_uri": "https://localhost:8080/"
        },
        "id": "c2zU0N-ZCfF-",
        "outputId": "fdadbfe3-4788-4174-9017-b98fa402dd4b"
      },
      "execution_count": null,
      "outputs": [
        {
          "output_type": "stream",
          "name": "stdout",
          "text": [
            "15\n"
          ]
        }
      ]
    },
    {
      "cell_type": "code",
      "source": [
        "x = lambda a, b : a * b\n",
        "\n",
        "print(x(5, 6))"
      ],
      "metadata": {
        "colab": {
          "base_uri": "https://localhost:8080/"
        },
        "id": "NcX_gecZC2bN",
        "outputId": "db103f82-f3f4-4631-c1de-4369de3cd7cc"
      },
      "execution_count": null,
      "outputs": [
        {
          "output_type": "stream",
          "name": "stdout",
          "text": [
            "30\n"
          ]
        }
      ]
    },
    {
      "cell_type": "code",
      "source": [
        "# Python is an object oriented programming language. Almost everything in Python is an object, with its properties and methods. A Class is like an object constructor, or a \"blueprint\" for producing objects\n",
        "\n",
        "class MyClass:\n",
        "  x = 5\n",
        "\n",
        "# Now we can use the class named MyClass to produce objects\n",
        "\n",
        "obj1 = MyClass()\n",
        "\n",
        "print(p1.x)"
      ],
      "metadata": {
        "colab": {
          "base_uri": "https://localhost:8080/"
        },
        "id": "6TAfjkmMDA4r",
        "outputId": "e762a356-b9e7-4dc4-992a-1703462bc12a"
      },
      "execution_count": null,
      "outputs": [
        {
          "output_type": "stream",
          "name": "stdout",
          "text": [
            "5\n"
          ]
        }
      ]
    },
    {
      "cell_type": "code",
      "source": [
        "\"\"\"\n",
        "The examples above are classes and objects in their simplest form, and are not really useful in real life\n",
        "applications. To understand the meaning of classes we have to understand the built-in __init__() function.\n",
        "All classes have a function called __init__(), which is always executed when the class is being initiated.\n",
        "Use the __init__() function to assign values to object properties, or other operations that are necessary to\n",
        "do when the object is being created\n",
        "\"\"\"\n",
        "\n",
        "class Person:\n",
        "\n",
        "  \"\"\"\n",
        "  There are 2 parameters here.\n",
        "  The parameters it takes are name and age. An object produced here should be produced to take 2 parameters, and its name and age should be assigned to the name (self.name) and age (self.age) variables of any object.\n",
        "  For example, let's say the name of the object is A. A's name (A.name) is equal to the name parameter.\n",
        "  The name in self.name does not have to be the same name as the name that comes as a parameter.\n",
        "  I produced an object named p1 from the Person class. And this has two parameters. A value of X was passed to the name parameter.A value of 36 was passed to the age parameter.\n",
        "  I assign this X to the name of the p1 object and 36 to the age of the p1 object. If I change the name in self.name to B, I should print it as p1.B\n",
        "  The name in self.name and p1.name are the same, but the name on the right side of the self.name = name expression (coming as a parameter) is not the same as the name in p1.name.\n",
        "  \"\"\"\n",
        "\n",
        "  def __init__(self, name, age):  # Self is wildcard word that gives the name of any object to be produced from this class. Since we do not know the names of the objects, it replaces them. You can call it something else but most of the python code on the internet you will see it as a self\n",
        "    self.name = name\n",
        "    self.age = age\n",
        "\n",
        "\n",
        "\n",
        "p1 = Person(\"X\", 36)\n",
        "\n",
        "print(p1.name)\n",
        "print(p1.age)"
      ],
      "metadata": {
        "colab": {
          "base_uri": "https://localhost:8080/"
        },
        "id": "pd2EP3IuDkq4",
        "outputId": "6e543a45-9e9b-4412-c62a-181229bdeb89"
      },
      "execution_count": null,
      "outputs": [
        {
          "output_type": "stream",
          "name": "stdout",
          "text": [
            "X\n",
            "36\n"
          ]
        }
      ]
    },
    {
      "cell_type": "code",
      "source": [
        "# The __str__() function controls what should be returned when the class object is represented as a string. If the __str__() function is not set, the string representation of the object is returned\n",
        "\n",
        "class Person:\n",
        "\n",
        "  def __init__(self, name, age):\n",
        "    self.name  = name\n",
        "    self.age = age\n",
        "\n",
        "  def __str__(self):\n",
        "    return f\"{self.name} {self.age}\"\n",
        "\n",
        "p1 = Person(\"John\", 36)\n",
        "\n",
        "print(p1)"
      ],
      "metadata": {
        "colab": {
          "base_uri": "https://localhost:8080/"
        },
        "id": "QvgmIdYBF1Rf",
        "outputId": "9a6baca7-4118-43fe-cb8e-98bdcf98b245"
      },
      "execution_count": null,
      "outputs": [
        {
          "output_type": "stream",
          "name": "stdout",
          "text": [
            "John 36\n"
          ]
        }
      ]
    },
    {
      "cell_type": "code",
      "source": [
        "# Objects can also contain methods. Methods in objects are functions that belong to the object\n",
        "\n",
        "class Person:\n",
        "\n",
        "  def __init__(self, name, age):\n",
        "    self.name = name\n",
        "    self.age = age\n",
        "\n",
        "  def myfunc(self):\n",
        "    print(\"Hello my name is \" + self.name)\n",
        "\n",
        "p1 = Person(\"John\", 36)\n",
        "p1.myfunc()\n",
        "\n",
        "# You can modify properties on objects like this\n",
        "\n",
        "p1.age = 40\n",
        "\n",
        "# You can delete properties on objects by using the del keyword\n",
        "\n",
        "del p1.age"
      ],
      "metadata": {
        "colab": {
          "base_uri": "https://localhost:8080/"
        },
        "id": "HMtNUTv_zQEJ",
        "outputId": "2e15d09d-2332-4634-a31a-7ac74edfc401"
      },
      "execution_count": null,
      "outputs": [
        {
          "output_type": "stream",
          "name": "stdout",
          "text": [
            "Hello my name is John\n"
          ]
        }
      ]
    },
    {
      "cell_type": "code",
      "source": [
        "\"\"\"\n",
        "Inheritance allows us to define a class that inherits all the methods and properties from another class\n",
        "Parent class is the class being inherited from, also called base class\n",
        "Child class is the class that inherits from another class, also called derived class\n",
        "\"\"\"\n",
        "\n",
        "# Any class can be a parent class, so the syntax is the same as producing any other class\n",
        "\n",
        "class Person:\n",
        "\n",
        "  def __init__(self, fname, lname):\n",
        "    self.firstname = fname\n",
        "    self.lastname = lname\n",
        "\n",
        "  def printname(self):\n",
        "    print(self.firstname, self.lastname)\n",
        "\n",
        "x = Person(\"X\", \"Y\")\n",
        "x.printname()\n",
        "\n",
        "class Student(Person):\n",
        "  pass\n",
        "\n",
        "x = Student(\"T\", \"Z\")\n",
        "x.printname()"
      ],
      "metadata": {
        "colab": {
          "base_uri": "https://localhost:8080/"
        },
        "id": "0PENQCEu0QXl",
        "outputId": "ff857921-cf38-45c7-bcaf-c43c388ae4ae"
      },
      "execution_count": null,
      "outputs": [
        {
          "output_type": "stream",
          "name": "stdout",
          "text": [
            "X Y\n",
            "T Z\n"
          ]
        }
      ]
    },
    {
      "cell_type": "code",
      "source": [
        "# A variable produced inside a function belongs to the local scope of that function, and can only be used inside that function\n",
        "\n",
        "def myfunc():\n",
        "  x = 300\n",
        "  print(x)\n",
        "\n",
        "myfunc()"
      ],
      "metadata": {
        "colab": {
          "base_uri": "https://localhost:8080/"
        },
        "id": "NMn8E6Kv3Wpj",
        "outputId": "c123abee-9185-4f8a-fe3b-a33b7f7102b5"
      },
      "execution_count": null,
      "outputs": [
        {
          "output_type": "stream",
          "name": "stdout",
          "text": [
            "300\n"
          ]
        }
      ]
    },
    {
      "cell_type": "code",
      "source": [
        "# As explained in the example above, the variable x is not available outside the function, but it is available for any function inside the function\n",
        "\n",
        "def myfunc():\n",
        "  x = 300\n",
        "  def myinnerfunc():\n",
        "    print(x)\n",
        "  myinnerfunc()\n",
        "\n",
        "myfunc()"
      ],
      "metadata": {
        "colab": {
          "base_uri": "https://localhost:8080/"
        },
        "id": "1BOkMf1D3nh_",
        "outputId": "267921ce-edd2-4a6a-ce24-3733faed7548"
      },
      "execution_count": null,
      "outputs": [
        {
          "output_type": "stream",
          "name": "stdout",
          "text": [
            "300\n"
          ]
        }
      ]
    },
    {
      "cell_type": "code",
      "source": [
        "\"\"\"\n",
        "A variable created in the main body of the Python code is a global variable and belongs to the global\n",
        "scope. Global variables are available from within any scope, global and local\n",
        "\"\"\"\n",
        "\n",
        "x = 300\n",
        "\n",
        "def myfunc():\n",
        "  print(x)\n",
        "\n",
        "myfunc()\n",
        "\n",
        "print(x)"
      ],
      "metadata": {
        "colab": {
          "base_uri": "https://localhost:8080/"
        },
        "id": "hSEkeT9j4HDt",
        "outputId": "b8a7e986-91a0-40f8-d1a3-a0f6eb2f0c5a"
      },
      "execution_count": null,
      "outputs": [
        {
          "output_type": "stream",
          "name": "stdout",
          "text": [
            "300\n",
            "300\n"
          ]
        }
      ]
    },
    {
      "cell_type": "code",
      "source": [
        "\"\"\"\n",
        "If you operate with the same variable name inside and outside of a function, Python will treat them as two\n",
        "separate variables, one available in the global scope (outside the function) and one available in the local\n",
        "scope (inside the function)\n",
        "\"\"\"\n",
        "\n",
        "x = 300\n",
        "\n",
        "def myfunc():\n",
        "  x = 200\n",
        "  print(x)\n",
        "\n",
        "myfunc()\n",
        "\n",
        "print(x)"
      ],
      "metadata": {
        "colab": {
          "base_uri": "https://localhost:8080/"
        },
        "id": "zmSaqU2d4mmB",
        "outputId": "1e54082f-0954-4bd4-c67d-18e522e96f96"
      },
      "execution_count": null,
      "outputs": [
        {
          "output_type": "stream",
          "name": "stdout",
          "text": [
            "200\n",
            "300\n"
          ]
        }
      ]
    }
  ],
  "metadata": {
    "colab": {
      "provenance": [],
      "authorship_tag": "ABX9TyNMfU16xgE2sY07uFQgX4Hk",
      "include_colab_link": true
    },
    "kernelspec": {
      "display_name": "Python 3",
      "name": "python3"
    },
    "language_info": {
      "name": "python"
    }
  },
  "nbformat": 4,
  "nbformat_minor": 0
}
