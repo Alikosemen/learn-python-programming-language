{
  "nbformat": 4,
  "nbformat_minor": 0,
  "metadata": {
    "colab": {
      "provenance": [],
      "authorship_tag": "ABX9TyOndR991wUfrJPmr9s/WU3N",
      "include_colab_link": true
    },
    "kernelspec": {
      "name": "python3",
      "display_name": "Python 3"
    },
    "language_info": {
      "name": "python"
    }
  },
  "cells": [
    {
      "cell_type": "markdown",
      "metadata": {
        "id": "view-in-github",
        "colab_type": "text"
      },
      "source": [
        "<a href=\"https://colab.research.google.com/github/Alikosemen/Learn-Python-Programming-Language/blob/main/Week_2.ipynb\" target=\"_parent\"><img src=\"https://colab.research.google.com/assets/colab-badge.svg\" alt=\"Open In Colab\"/></a>"
      ]
    },
    {
      "cell_type": "code",
      "execution_count": null,
      "metadata": {
        "colab": {
          "base_uri": "https://localhost:8080/"
        },
        "id": "8sZ8VMKbfPZF",
        "outputId": "3638f814-7534-449d-99cc-b575bb3351a4"
      },
      "outputs": [
        {
          "output_type": "stream",
          "name": "stdout",
          "text": [
            "132866802936192\n",
            "132866802936192\n",
            "132866802843392\n",
            "<class 'list'>\n",
            "<class 'list'>\n",
            "<class 'list'>\n"
          ]
        }
      ],
      "source": [
        "# There are 4 data structures in Python. List, Tuple, Dictionary, Set\n",
        "\n",
        "A = [100]  # Copy method is used in lists\n",
        "B = A\n",
        "C = A.copy()\n",
        "\n",
        "print(id(A))\n",
        "print(id(B))\n",
        "print(id(C))\n",
        "\n",
        "print(type(A))\n",
        "print(type(B))\n",
        "print(type(C))"
      ]
    },
    {
      "cell_type": "code",
      "source": [
        "D = 100\n",
        "print(type(D))"
      ],
      "metadata": {
        "colab": {
          "base_uri": "https://localhost:8080/"
        },
        "id": "9i3xc02DiddY",
        "outputId": "5970c75b-42da-4580-fe30-760c6c578dc6"
      },
      "execution_count": null,
      "outputs": [
        {
          "output_type": "stream",
          "name": "stdout",
          "text": [
            "<class 'int'>\n"
          ]
        }
      ]
    },
    {
      "cell_type": "code",
      "source": [
        "# Let's we demonstrate, how you can count instance with class attributes\n",
        "\n",
        "class C:\n",
        "  counter = 0\n",
        "  def __init__(self):\n",
        "    type(self).counter += 1\n",
        "\n",
        "  def __del__(self):            # The method will delete the specified object\n",
        "    type(self).counter -= 1     # When it deletes the object, it will decrement the counter value\n",
        "\n",
        "x = C()\n",
        "print(\"Number of instances: \" + str(C.counter))\n",
        "y = C()\n",
        "print(\"Number of instances: \" + str(C.counter))\n",
        "del x\n",
        "print(\"Number of instances: \" + str(C.counter))\n",
        "del y\n",
        "print(\"Number of instances: \" + str(C.counter))"
      ],
      "metadata": {
        "colab": {
          "base_uri": "https://localhost:8080/"
        },
        "id": "3BhlSmcFipC-",
        "outputId": "b4c93d62-5d10-4f02-8cc3-3e5def83e5a8"
      },
      "execution_count": null,
      "outputs": [
        {
          "output_type": "stream",
          "name": "stdout",
          "text": [
            "Number of instances: 1\n",
            "Number of instances: 2\n",
            "Number of instances: 1\n",
            "Number of instances: 0\n"
          ]
        }
      ]
    },
    {
      "cell_type": "code",
      "source": [
        "\"\"\"\n",
        "We used class attributes as public attributes in the previous section.\n",
        "Of course, we can make public attributes private as well. We can do this by adding the 'double underscore'.\n",
        "If we do so, we need a possibility to acces and change these private class attributes.\n",
        "We could use instance methods for this purpose\n",
        "\"\"\"\n",
        "\n",
        "class Robot:\n",
        "  __counter = 0  # This is an attribute just like the normal counter variable we used in the previous week\n",
        "  def __init__(self):\n",
        "    type(self).__counter += 1\n",
        "\n",
        "  def RobotInstances(self):\n",
        "    return Robot.__counter\n",
        "\n",
        "x = Robot()\n",
        "print(x.RobotInstances())\n",
        "y = Robot()\n",
        "print(x.RobotInstances())"
      ],
      "metadata": {
        "colab": {
          "base_uri": "https://localhost:8080/"
        },
        "id": "dh2kZObeTpKF",
        "outputId": "9d551da1-e357-4da2-c3ae-729260145267"
      },
      "execution_count": null,
      "outputs": [
        {
          "output_type": "stream",
          "name": "stdout",
          "text": [
            "1\n",
            "2\n"
          ]
        }
      ]
    },
    {
      "cell_type": "code",
      "source": [
        "class Robot:\n",
        "  __counter = 0\n",
        "  def __init__(self):\n",
        "    type(self).__counter += 1\n",
        "\n",
        "  def RobotInstances(self):\n",
        "    return Robot.__counter\n",
        "\n",
        "A = Robot()\n",
        "print(A.__counter)  # We get error --> AttributeError: 'Robot' object has no attribute '__counter' Because __counter variable is a private variable. We can't acces directly. So we accessed it with the method in the code above"
      ],
      "metadata": {
        "colab": {
          "base_uri": "https://localhost:8080/",
          "height": 176
        },
        "id": "9M82ZbtkWKzI",
        "outputId": "a085cca8-70ff-4e9b-9861-18762713e709"
      },
      "execution_count": null,
      "outputs": [
        {
          "output_type": "error",
          "ename": "AttributeError",
          "evalue": "'Robot' object has no attribute '__counter'",
          "traceback": [
            "\u001b[0;31m---------------------------------------------------------------------------\u001b[0m",
            "\u001b[0;31mAttributeError\u001b[0m                            Traceback (most recent call last)",
            "\u001b[0;32m<ipython-input-4-29c7f7e85a79>\u001b[0m in \u001b[0;36m<cell line: 10>\u001b[0;34m()\u001b[0m\n\u001b[1;32m      8\u001b[0m \u001b[0;34m\u001b[0m\u001b[0m\n\u001b[1;32m      9\u001b[0m \u001b[0mA\u001b[0m \u001b[0;34m=\u001b[0m \u001b[0mRobot\u001b[0m\u001b[0;34m(\u001b[0m\u001b[0;34m)\u001b[0m\u001b[0;34m\u001b[0m\u001b[0;34m\u001b[0m\u001b[0m\n\u001b[0;32m---> 10\u001b[0;31m \u001b[0mprint\u001b[0m\u001b[0;34m(\u001b[0m\u001b[0mA\u001b[0m\u001b[0;34m.\u001b[0m\u001b[0m__counter\u001b[0m\u001b[0;34m)\u001b[0m  \u001b[0;31m# We get error --> AttributeError: 'Robot' object has no attribute '__counter' Because __counter variable is a private variable. We can't acces directly. So we accessed it with the method in the code above\u001b[0m\u001b[0;34m\u001b[0m\u001b[0;34m\u001b[0m\u001b[0m\n\u001b[0m",
            "\u001b[0;31mAttributeError\u001b[0m: 'Robot' object has no attribute '__counter'"
          ]
        }
      ]
    },
    {
      "cell_type": "code",
      "source": [
        "# I wanted to show wrong accesses\n",
        "\n",
        "class Robot:\n",
        "  __counter = 0\n",
        "  def __init__(self):\n",
        "    type(self).__counter += 1\n",
        "\n",
        "  def RobotInstances(self):\n",
        "    return Robot.__counter\n",
        "\n",
        "A = Robot()\n",
        "print(Robot.__counter)"
      ],
      "metadata": {
        "colab": {
          "base_uri": "https://localhost:8080/",
          "height": 176
        },
        "id": "NhKE0D27YArr",
        "outputId": "e03d704d-f797-4d13-b262-48ba780195bd"
      },
      "execution_count": null,
      "outputs": [
        {
          "output_type": "error",
          "ename": "AttributeError",
          "evalue": "type object 'Robot' has no attribute '__counter'",
          "traceback": [
            "\u001b[0;31m---------------------------------------------------------------------------\u001b[0m",
            "\u001b[0;31mAttributeError\u001b[0m                            Traceback (most recent call last)",
            "\u001b[0;32m<ipython-input-5-e1e2c37b125d>\u001b[0m in \u001b[0;36m<cell line: 10>\u001b[0;34m()\u001b[0m\n\u001b[1;32m      8\u001b[0m \u001b[0;34m\u001b[0m\u001b[0m\n\u001b[1;32m      9\u001b[0m \u001b[0mA\u001b[0m \u001b[0;34m=\u001b[0m \u001b[0mRobot\u001b[0m\u001b[0;34m(\u001b[0m\u001b[0;34m)\u001b[0m\u001b[0;34m\u001b[0m\u001b[0;34m\u001b[0m\u001b[0m\n\u001b[0;32m---> 10\u001b[0;31m \u001b[0mprint\u001b[0m\u001b[0;34m(\u001b[0m\u001b[0mRobot\u001b[0m\u001b[0;34m.\u001b[0m\u001b[0m__counter\u001b[0m\u001b[0;34m)\u001b[0m\u001b[0;34m\u001b[0m\u001b[0;34m\u001b[0m\u001b[0m\n\u001b[0m",
            "\u001b[0;31mAttributeError\u001b[0m: type object 'Robot' has no attribute '__counter'"
          ]
        }
      ]
    },
    {
      "cell_type": "code",
      "source": [
        "\"\"\"\n",
        "In Python, when you reference a method without parentheses, you get a bound method object, which is what this output represents.\n",
        "A bound method is essentially a method combined with an object, waiting to be called.\n",
        "The part <__main__.Robot object at 0x7cacc76a12a0> indicates that this method is bound to an instance of Robot that is located at the memory address 0x7cacc76a12a0\n",
        "\"\"\"\n",
        "\n",
        "class Robot:\n",
        "  __counter = 0\n",
        "  def __init__(self):\n",
        "    type(self).__counter += 1\n",
        "\n",
        "  def RobotInstances(self):\n",
        "    return Robot.__counter\n",
        "\n",
        "A = Robot()\n",
        "print(A.RobotInstances)"
      ],
      "metadata": {
        "colab": {
          "base_uri": "https://localhost:8080/"
        },
        "id": "QL8nw14mYTVF",
        "outputId": "13abf749-d90e-4c50-b301-21a811e3e09f"
      },
      "execution_count": null,
      "outputs": [
        {
          "output_type": "stream",
          "name": "stdout",
          "text": [
            "<bound method Robot.RobotInstances of <__main__.Robot object at 0x7cacc76a12a0>>\n"
          ]
        }
      ]
    },
    {
      "cell_type": "code",
      "source": [
        "class Robot:\n",
        "  __counter = 0\n",
        "  def __init__(self):\n",
        "    type(self).__counter += 1\n",
        "\n",
        "  def RobotInstances(self):\n",
        "    return Robot.__counter\n",
        "\n",
        "A = Robot()\n",
        "print(A.RobotInstances())  # To actually call the method and get the number of instances of the Robot class, you need to use parentheses to invoke the method, like so"
      ],
      "metadata": {
        "colab": {
          "base_uri": "https://localhost:8080/"
        },
        "id": "u5vUQwhAZQZR",
        "outputId": "6417ea54-8be6-4fb9-8ada-f76ab194665d"
      },
      "execution_count": null,
      "outputs": [
        {
          "output_type": "stream",
          "name": "stdout",
          "text": [
            "1\n"
          ]
        }
      ]
    },
    {
      "cell_type": "code",
      "source": [
        "class Robot:\n",
        "  __counter = 0\n",
        "  def __init__(self):\n",
        "    type(self).__counter += 1\n",
        "\n",
        "  def RobotInstances(self):\n",
        "    return Robot.__counter\n",
        "\n",
        "A = Robot()\n",
        "\n",
        "print(Robot.RobotInstances())\n",
        "\n",
        "\"\"\"\n",
        "When you attempt to call the RobotInstances method directly on the class Robot with the syntax Robot.RobotInstances(),\n",
        "Python expects you to manually provide an instance of the Robot class as the first argument, which corresponds to the self parameter within the method definition.\n",
        "Since RobotInstances is an instance method, not a class method or static method, it requires an instance of the class to operate on\n",
        "\"\"\""
      ],
      "metadata": {
        "colab": {
          "base_uri": "https://localhost:8080/",
          "height": 176
        },
        "id": "fLjhDuePZr4i",
        "outputId": "be150555-a1b2-40c3-8054-4f98fab12bb5"
      },
      "execution_count": null,
      "outputs": [
        {
          "output_type": "error",
          "ename": "TypeError",
          "evalue": "Robot.RobotInstances() missing 1 required positional argument: 'self'",
          "traceback": [
            "\u001b[0;31m---------------------------------------------------------------------------\u001b[0m",
            "\u001b[0;31mTypeError\u001b[0m                                 Traceback (most recent call last)",
            "\u001b[0;32m<ipython-input-15-4b83370c3ca4>\u001b[0m in \u001b[0;36m<cell line: 11>\u001b[0;34m()\u001b[0m\n\u001b[1;32m      9\u001b[0m \u001b[0mA\u001b[0m \u001b[0;34m=\u001b[0m \u001b[0mRobot\u001b[0m\u001b[0;34m(\u001b[0m\u001b[0;34m)\u001b[0m\u001b[0;34m\u001b[0m\u001b[0;34m\u001b[0m\u001b[0m\n\u001b[1;32m     10\u001b[0m \u001b[0;34m\u001b[0m\u001b[0m\n\u001b[0;32m---> 11\u001b[0;31m \u001b[0mprint\u001b[0m\u001b[0;34m(\u001b[0m\u001b[0mRobot\u001b[0m\u001b[0;34m.\u001b[0m\u001b[0mRobotInstances\u001b[0m\u001b[0;34m(\u001b[0m\u001b[0;34m)\u001b[0m\u001b[0;34m)\u001b[0m\u001b[0;34m\u001b[0m\u001b[0;34m\u001b[0m\u001b[0m\n\u001b[0m",
            "\u001b[0;31mTypeError\u001b[0m: Robot.RobotInstances() missing 1 required positional argument: 'self'"
          ]
        }
      ]
    },
    {
      "cell_type": "code",
      "source": [
        "class Robot:\n",
        "  __counter = 0\n",
        "  def __init__(self):\n",
        "    type(self).__counter += 1\n",
        "\n",
        "  def RobotInstances(self):\n",
        "    return Robot.__counter\n",
        "\n",
        "A = Robot()\n",
        "\n",
        "\"\"\"\n",
        "By passing A here, you're manually providing the self argument that the method expects.\n",
        "A is an instance of Robot, so this satisfies the method's requirement for an instance through which it can access instance attributes\n",
        "Explicitly pass an instance to the method when calling it from the class, which is generally not recommended (It is recommended to use @classmethod. We'll cover later inşAllah) in this context but technically possible\n",
        "\"\"\"\n",
        "\n",
        "\"\"\"\n",
        "Modify the method to be a class method, which is designed to be called on the class rather than instances.\n",
        "This involves using the @classmethod decorator and accepting a cls parameter instead of self.\n",
        "The method can then reference class variables directly or perform actions that affect the class as a whole, rather than individual instances\n",
        "\"\"\"\n",
        "print(Robot.RobotInstances(A))\n",
        "\n"
      ],
      "metadata": {
        "colab": {
          "base_uri": "https://localhost:8080/"
        },
        "id": "fTFA_Uhud7g8",
        "outputId": "5c6c2dd4-c1c9-452f-fce0-825417d6de1d"
      },
      "execution_count": null,
      "outputs": [
        {
          "output_type": "stream",
          "name": "stdout",
          "text": [
            "1\n"
          ]
        }
      ]
    },
    {
      "cell_type": "code",
      "source": [
        "class Robot:\n",
        "  __counter = 0\n",
        "  def __init__(self):\n",
        "    type(self).__counter += 1\n",
        "\n",
        "  def RobotInstances(self):\n",
        "    return Robot.__counter\n",
        "\n",
        "A = Robot()\n",
        "\n",
        "print(Robot.RobotInstances())\n",
        "\n",
        "\"\"\"\n",
        "The solution lies in static methods, which don't need a reference to an instance\n",
        "\"\"\""
      ],
      "metadata": {
        "colab": {
          "base_uri": "https://localhost:8080/",
          "height": 176
        },
        "id": "xLnX-alJgFJN",
        "outputId": "58e64c60-4948-444e-d094-cf60627a8be5"
      },
      "execution_count": null,
      "outputs": [
        {
          "output_type": "error",
          "ename": "TypeError",
          "evalue": "Robot.RobotInstances() missing 1 required positional argument: 'self'",
          "traceback": [
            "\u001b[0;31m---------------------------------------------------------------------------\u001b[0m",
            "\u001b[0;31mTypeError\u001b[0m                                 Traceback (most recent call last)",
            "\u001b[0;32m<ipython-input-19-4b83370c3ca4>\u001b[0m in \u001b[0;36m<cell line: 11>\u001b[0;34m()\u001b[0m\n\u001b[1;32m      9\u001b[0m \u001b[0mA\u001b[0m \u001b[0;34m=\u001b[0m \u001b[0mRobot\u001b[0m\u001b[0;34m(\u001b[0m\u001b[0;34m)\u001b[0m\u001b[0;34m\u001b[0m\u001b[0;34m\u001b[0m\u001b[0m\n\u001b[1;32m     10\u001b[0m \u001b[0;34m\u001b[0m\u001b[0m\n\u001b[0;32m---> 11\u001b[0;31m \u001b[0mprint\u001b[0m\u001b[0;34m(\u001b[0m\u001b[0mRobot\u001b[0m\u001b[0;34m.\u001b[0m\u001b[0mRobotInstances\u001b[0m\u001b[0;34m(\u001b[0m\u001b[0;34m)\u001b[0m\u001b[0;34m)\u001b[0m\u001b[0;34m\u001b[0m\u001b[0;34m\u001b[0m\u001b[0m\n\u001b[0m",
            "\u001b[0;31mTypeError\u001b[0m: Robot.RobotInstances() missing 1 required positional argument: 'self'"
          ]
        }
      ]
    },
    {
      "cell_type": "code",
      "source": [
        "class Robot:\n",
        "  __counter = 0\n",
        "  def __init__(self):\n",
        "    type(self).__counter += 1\n",
        "\n",
        "  @staticmethod\n",
        "  def RobotInstances():\n",
        "    return Robot.__counter\n",
        "\n",
        "print(Robot.RobotInstances()) # We printed the same expression above, but we did not get an error because we defined the method as static\n",
        "x = Robot()\n",
        "print(x.RobotInstances())\n",
        "y = Robot()\n",
        "print(x.RobotInstances()) # You can use instead of y.RobotInstances(). Doesn't matter."
      ],
      "metadata": {
        "colab": {
          "base_uri": "https://localhost:8080/"
        },
        "id": "yy1UZy9Ig9vx",
        "outputId": "e2068666-4932-4181-c758-96860be249b4"
      },
      "execution_count": null,
      "outputs": [
        {
          "output_type": "stream",
          "name": "stdout",
          "text": [
            "0\n",
            "1\n",
            "2\n"
          ]
        }
      ]
    },
    {
      "cell_type": "code",
      "source": [
        "# If a class can use its own method, we call it class method.\n",
        "# We call the method with the name 'cls'\n",
        "\n",
        "# Objects call methods. If the class calls the method, we write cls in front of it.\n",
        "\n",
        "\"\"\"\n",
        "Static methods shouldn't be confused with class methods.\n",
        "Like static methods class methods are not bound to instances, but unlike static methods class methods are bound to a class.\n",
        "The first parameter of a class method is a reference to a class, i.e a class object.\n",
        "They can be called via an instance of the class name\n",
        "\"\"\"\n",
        "\n",
        "\"\"\"\n",
        "Class method is defined to describe the methods used by the class. Static method is described for accessing.\n",
        "\"\"\"\n",
        "\n",
        "class Robot:\n",
        "  __counter = 0\n",
        "  def __init__(self):\n",
        "    type(self).__counter += 1\n",
        "\n",
        "  @classmethod\n",
        "  def RobotInstances(cls):\n",
        "    return cls, Robot.__counter\n",
        "\n",
        "print(Robot.RobotInstances())\n",
        "x = Robot()\n",
        "print(x.RobotInstances())\n",
        "y = Robot()\n",
        "print(x.RobotInstances())"
      ],
      "metadata": {
        "colab": {
          "base_uri": "https://localhost:8080/"
        },
        "id": "hWY3iCzyjNjW",
        "outputId": "d65bd1ee-e464-445c-b354-86f5a001a321"
      },
      "execution_count": null,
      "outputs": [
        {
          "output_type": "stream",
          "name": "stdout",
          "text": [
            "(<class '__main__.Robot'>, 0)\n",
            "(<class '__main__.Robot'>, 1)\n",
            "(<class '__main__.Robot'>, 2)\n"
          ]
        }
      ]
    },
    {
      "cell_type": "code",
      "source": [
        "\"\"\"\n",
        "We have defined a static gcd function to calculate the greatest common divisor of two numbers.\n",
        "The greatest common divisor (gcd) of two or more integers (at least one of which is not zero),\n",
        "is the largest positive integer that divides the numbers without a remainder\n",
        "\"\"\"\n",
        "\n",
        "\"\"\"\n",
        "We are producing a class called fraction. We take an object type parameter in the class (This is the first time we've ever done this. I'll explain it in a moment) and define the init function.\n",
        "Two parameters are needed. We need to reduce the numerator and denominator (numerator n, denominator d) with the help of a function to find the greatest common divisor.\n",
        "Because when we say 25 / 10 (reduced version 5/2), we normally do this to find the greatest common divisor of 5.\n",
        "The reduced function finds the largest common divisor and returns it as a value.\n",
        "There is a structure here, a function that finds the largest common divisor.\n",
        "There is another function that takes its result and uses it, performs an operation and gives us an answer.\n",
        "We are now seeing how a function uses another function inside each other.\n",
        "We are using a static method here because the class will use a method and we will use that method while doing the actual operation.\n",
        "\"\"\"\n",
        "\n",
        "\"\"\"\n",
        "Static methods are the methods that are called, class methods are the methods that call them. Both are managed by the class, not the object. Class methods are called with cls.\n",
        "\"\"\"\n",
        "\n",
        "class fraction(object):\n",
        "\n",
        "  def __init__(self, n, d):\n",
        "    self.numerator, self.denominator = fraction.reduce(n, d)\n",
        "\n",
        "  @staticmethod\n",
        "  def gcd(a, b):\n",
        "    while b!= 0:      # With the help of a loop, we take a and b as input as long as the remainder is not 0, we send b each time and we get the mode of a according to b. If b is not different from 0, it is done continuously. When b is zero, a becomes our greatest common divisor.\n",
        "      a, b = b, a%b\n",
        "    return a\n",
        "\n",
        "  @classmethod\n",
        "  def reduce(cls, n1, n2):\n",
        "    g = cls.gcd(n1, n2)   # call class's function\n",
        "    return (n1 // g, n2 // g)\n",
        "\n",
        "  def __str__(self):  # We specifically updated the str function so that it can output attributes when we want to print objects. We can see the result with the attributes of the objects. That's why we used the str function.\n",
        "    return str(self.numerator) + '/' + str(self.denominator)\n",
        "\n",
        "\"\"\"\n",
        "There is no self but cls in reduce method.\n",
        "What does this mean? Only the class can call and use it.\n",
        "In solving this problem, we use the result of another function in another function. Since that other function we will use will only be used by the class, we define it with classmethod.\n",
        "\"\"\"\n",
        "\n",
        "\"\"\"\n",
        "Why didn't we make the gcd method as a classmethod because this is the auxiliary function we use,\n",
        "the reduce function can use this auxiliary function.\n",
        "Then we define it, take and use n1 and n2 values ​​as parameters with the help of the function we defined with the static method that comes from the class, that is, used by the class.\n",
        "\"\"\"\n",
        "\n",
        "\"\"\"\n",
        "Did anything catch your attention? There is nothing that calls __str__, how did this happen automatically?\n",
        "Because the class directly used the object itself.\n",
        "That's why the outputs are inside the object. If the output is inside the object, __str__ works automatically when we print the object.\n",
        "\"\"\"\n",
        "\n",
        "x = fraction(8, 24)\n",
        "print(x)\n",
        "# print(x.a) When you remove this comment line you will get an error. Why? The object you produce from this class does not have such an attribute. a located in the static method. Only the classmethod can access it in the class\n"
      ],
      "metadata": {
        "colab": {
          "base_uri": "https://localhost:8080/"
        },
        "id": "bTrDExLLkKeV",
        "outputId": "46291479-6740-4891-db63-9f05d98fb496"
      },
      "execution_count": null,
      "outputs": [
        {
          "output_type": "stream",
          "name": "stdout",
          "text": [
            "1/3\n"
          ]
        }
      ]
    },
    {
      "cell_type": "code",
      "source": [
        "def gcd(a, b):\n",
        "    while b!= 0:\n",
        "      a, b = b, a%b  # Here, comma-separated values ​​are equal to comma-separated values ​​on the other side of the equation.\n",
        "    return a\n",
        "\n",
        "print(gcd(25,10))\n",
        "print(gcd(24,8))"
      ],
      "metadata": {
        "colab": {
          "base_uri": "https://localhost:8080/"
        },
        "id": "V-PXzqEDu4BL",
        "outputId": "d8325328-5fc6-4bd6-9a1e-dc590f26f14d"
      },
      "execution_count": null,
      "outputs": [
        {
          "output_type": "stream",
          "name": "stdout",
          "text": [
            "5\n",
            "8\n"
          ]
        }
      ]
    },
    {
      "cell_type": "code",
      "source": [
        "class P:\n",
        "\n",
        "  def __init__(self, x):\n",
        "    self.set_x(x)\n",
        "\n",
        "  def get_x(self):\n",
        "    return self.__x\n",
        "\n",
        "  def set_x(self, x):\n",
        "    if x < 0:\n",
        "      self.__x = 0\n",
        "    elif x > 1000:\n",
        "      self.__x = 1000\n",
        "    else:\n",
        "      self.__X = x\n",
        "\n",
        "p1 = P(1001)\n",
        "print(p1.get_x())\n",
        "p1.x = 1001\n",
        "print(p1.x)  # This line adds a new property named x to object p1 and sets its value to 1001. This is not directly related to the __x property\n",
        "\n",
        "# The photo below is a visualization of this code"
      ],
      "metadata": {
        "id": "O8cLvvdY5Qgj"
      },
      "execution_count": null,
      "outputs": []
    },
    {
      "cell_type": "markdown",
      "source": [
        "![WhiteBoard-25.02.2024-18_27_48.png](data:image/png;base64,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)"
      ],
      "metadata": {
        "id": "X2373KUv5WTJ"
      }
    },
    {
      "cell_type": "code",
      "source": [
        "\"\"\"\n",
        "A method which is used for getting a value is decorated with @property, i.e we put this line\n",
        "directly in front of the header. The method which has to function as the setter is decorated with @x.setter.\n",
        "If the function had been called \"f\", we would have to decorate it with @f.setter\"\n",
        "\"\"\"\n",
        "\n",
        "class P:\n",
        "\n",
        "  def __init__(self, x):\n",
        "    self.x = x   # The object does not need to call any set_x function because we use this property when taking x. Property says take self.__x and find that __x with a setter.\n",
        "\n",
        "  @property\n",
        "  def x(self):\n",
        "    return self.__X\n",
        "\n",
        "  @x.setter   # where x is the name of the above function. setter is the function that sets this (sets its value).\n",
        "  def x(self, x):\n",
        "    if x < 0:\n",
        "      self.__X = 0\n",
        "    elif x > 1000:\n",
        "      self.__X = 1000\n",
        "    else:\n",
        "      self.__x = x\n",
        "\n",
        "\n",
        "\n",
        "\n",
        "p1 = P(1001) # The value given when creating the object is 1001\n",
        "print(p1.x)\n",
        "p1.x = 1001 # Here we manually change the x attribute of the p1 object. But the result is 1000 again. Because our manual change goes to properties. It says take x inside with the property setter\n",
        "print(p1.x)\n",
        "\n",
        "\"\"\"\n",
        "As an example of daily use, let's say we want calendar information from the user. The user cannot type 13 (there are 12 months). In such a case, for example,  we can get the mode in the property.\n",
        "\"\"\""
      ],
      "metadata": {
        "colab": {
          "base_uri": "https://localhost:8080/"
        },
        "id": "PPiaUiCTroZ9",
        "outputId": "768da232-0d0f-4434-b545-30b5ab7abafd"
      },
      "execution_count": null,
      "outputs": [
        {
          "output_type": "stream",
          "name": "stdout",
          "text": [
            "1000\n",
            "1000\n"
          ]
        }
      ]
    },
    {
      "cell_type": "code",
      "source": [
        "\"\"\"\n",
        "Ecxeptions enable our program to continue on its way without being interrupted in the face of undesirable situations\n",
        "\"\"\"\n",
        "\n",
        "\"\"\"\n",
        "An exception is an event that occurs during the execution of programs\n",
        "that disrupt the normal flow of execution (e.g., KeyError Raised when a key is not found in a dictionary)\n",
        "An exception is a Python object that represents an error\n",
        "\"\"\"\n",
        "\n",
        "\"\"\"\n",
        "In Python, an exception is an object derives from the BaseException class that\n",
        "contains information about an error event that occurred within a method. Exception object contains:\n",
        "\n",
        "* Error type (exception name)\n",
        "* The state of the program when the error occurred\n",
        "* An error message describes the error event\n",
        "\"\"\"\n",
        "\n",
        "\"\"\"\n",
        "Exception are useful to indicate different types of possible failure condition.\n",
        "\n",
        "For example, below are the few standart exceptions\n",
        "\n",
        "* FileNotFoundException\n",
        "* ImportError\n",
        "* RuntimeError\n",
        "* NameError\n",
        "* TypeError\n",
        "\"\"\"\n",
        "\n",
        "\n",
        "\"\"\"\n",
        "Why use Exception\n",
        "\n",
        "* Standardized error handling: Using built-in exceptions or producing a custom exception\n",
        "with more precise name and description, you can adequately define the error event which\n",
        "helps you debug the error event\n",
        "\n",
        "* Cleaner code: Execeptions separate the error-handling code from regular code, which helps us\n",
        "to maintain large code easily\n",
        "\n",
        "* Robust application: With the help pf exceptions, we can develop a solid application, which can\n",
        "handle error event efficiently\n",
        "\n",
        "* Exceptions propagation: By default, the exception propagates the call stack if you don't catch it.\n",
        "For example, if any error event occurred in a nested function, you do not have to explicitly catch-and forward it;\n",
        "automatically, it gets forwarded to the calling function where you can handle it\n",
        "\n",
        "* Different error types: Either you can use built-in exception or produce your custom exception and group them\n",
        "by their generalized parent class, or differentiate errors by their actual class\n",
        "\"\"\"\n",
        "\n",
        "\"\"\"\n",
        "Built-in Exceptions\n",
        "\n",
        "Python automatically generates many exceptions and errors. Runtime exceptions, generally a result of\n",
        "programming errors, such as:\n",
        "\n",
        "* Reading a file that is not present\n",
        "* Trying to read data outside the avaliable index of a list\n",
        "* Dividing an integer value by zero\n",
        "\"\"\""
      ],
      "metadata": {
        "id": "Mb-7y68FFTtW"
      },
      "execution_count": null,
      "outputs": []
    },
    {
      "cell_type": "code",
      "source": [
        "\"\"\"\n",
        "When an exception occurs , Python stops the program execution and generates an expection message. It is highly recommended to handle exceptions.\n",
        "The doubtful code that may raise an exception is called risky code\n",
        "\"\"\"\n",
        "\n",
        "try:\n",
        "  # statements in try block\n",
        "except:\n",
        "  #executed when exception occurred in try block"
      ],
      "metadata": {
        "id": "ZXGwm4YUNv4H"
      },
      "execution_count": null,
      "outputs": []
    },
    {
      "cell_type": "code",
      "source": [
        "a = 10\n",
        "b = 0\n",
        "c = a / b\n",
        "print (\"a/b = \",c)\n",
        "\n",
        "# If we do not want to see this error, we should use try-except\n"
      ],
      "metadata": {
        "colab": {
          "base_uri": "https://localhost:8080/",
          "height": 211
        },
        "id": "daqee9sNOhTM",
        "outputId": "f9214d8a-c859-4b30-d5c9-c3f929f839d5"
      },
      "execution_count": 6,
      "outputs": [
        {
          "output_type": "error",
          "ename": "ZeroDivisionError",
          "evalue": "division by zero",
          "traceback": [
            "\u001b[0;31m---------------------------------------------------------------------------\u001b[0m",
            "\u001b[0;31mZeroDivisionError\u001b[0m                         Traceback (most recent call last)",
            "\u001b[0;32m<ipython-input-6-40d42a5bfd67>\u001b[0m in \u001b[0;36m<cell line: 3>\u001b[0;34m()\u001b[0m\n\u001b[1;32m      1\u001b[0m \u001b[0ma\u001b[0m \u001b[0;34m=\u001b[0m \u001b[0;36m10\u001b[0m\u001b[0;34m\u001b[0m\u001b[0;34m\u001b[0m\u001b[0m\n\u001b[1;32m      2\u001b[0m \u001b[0mb\u001b[0m \u001b[0;34m=\u001b[0m \u001b[0;36m0\u001b[0m\u001b[0;34m\u001b[0m\u001b[0;34m\u001b[0m\u001b[0m\n\u001b[0;32m----> 3\u001b[0;31m \u001b[0mc\u001b[0m \u001b[0;34m=\u001b[0m \u001b[0ma\u001b[0m \u001b[0;34m/\u001b[0m \u001b[0mb\u001b[0m\u001b[0;34m\u001b[0m\u001b[0;34m\u001b[0m\u001b[0m\n\u001b[0m\u001b[1;32m      4\u001b[0m \u001b[0mprint\u001b[0m \u001b[0;34m(\u001b[0m\u001b[0;34m\"a/b = \"\u001b[0m\u001b[0;34m,\u001b[0m\u001b[0mc\u001b[0m\u001b[0;34m)\u001b[0m  \u001b[0;31m# where the symbol %d holds the value c. We must use the % symbol in such a printing process\u001b[0m\u001b[0;34m\u001b[0m\u001b[0;34m\u001b[0m\u001b[0m\n\u001b[1;32m      5\u001b[0m \u001b[0;34m\u001b[0m\u001b[0m\n",
            "\u001b[0;31mZeroDivisionError\u001b[0m: division by zero"
          ]
        }
      ]
    },
    {
      "cell_type": "code",
      "source": [
        "try:\n",
        "  a = 10\n",
        "  b = 0\n",
        "  c = a/b\n",
        "  print(\"The answer of a divide by b:\", c)\n",
        "\n",
        "except:\n",
        "  print(\"Can't divide with zero. Provide different number\")"
      ],
      "metadata": {
        "colab": {
          "base_uri": "https://localhost:8080/"
        },
        "id": "y0cdmiYnPIwr",
        "outputId": "3decaea6-ae7d-4202-c235-c0edce945814"
      },
      "execution_count": 2,
      "outputs": [
        {
          "output_type": "stream",
          "name": "stdout",
          "text": [
            "Can't divide with zero. Provide different number\n"
          ]
        }
      ]
    },
    {
      "cell_type": "code",
      "source": [
        "try:\n",
        "  a = int(input(\"Enter value of a:\"))  # this is how we get the value from the user in Python. By default, string type values ​​are received from the user. You should put it at the beginning of whatever type of value you want to get.\n",
        "  b = int(input(\"Enter value of b:\"))\n",
        "  c = a/b\n",
        "  print(\"The answer of a divide by b:\", c)\n",
        "except ValueError:\n",
        "  print(\"Entered value is wrong\")\n",
        "except ZeroDivisionError:\n",
        "  print(\"Can't divide by zero\")"
      ],
      "metadata": {
        "colab": {
          "base_uri": "https://localhost:8080/"
        },
        "id": "ZkIvkoEEQMhy",
        "outputId": "d6937ca5-e9f2-4f27-9349-096a8dbc4853"
      },
      "execution_count": 3,
      "outputs": [
        {
          "output_type": "stream",
          "name": "stdout",
          "text": [
            "Enter value of a:10\n",
            "Enter value of b:0\n",
            "Can't divide by zero\n"
          ]
        }
      ]
    },
    {
      "cell_type": "code",
      "source": [
        "try:\n",
        "  a = int(input(\"Enter value of a:\"))  # this is how we get the value from the user in Python. By default, string type values ​​are received from the user. You should put it at the beginning of whatever type of value you want to get.\n",
        "  b = int(input(\"Enter value of b:\"))\n",
        "  c = a/b\n",
        "  print(\"The answer of a divide by b:\", c)\n",
        "except ValueError:\n",
        "  print(\"Entered value is wrong\")\n",
        "except ZeroDivisionError:\n",
        "  print(\"Can't divide by zero\")"
      ],
      "metadata": {
        "colab": {
          "base_uri": "https://localhost:8080/"
        },
        "id": "kPtTfvg6Ry6r",
        "outputId": "52283c55-b484-445b-f87f-dc871b12bfaf"
      },
      "execution_count": 4,
      "outputs": [
        {
          "output_type": "stream",
          "name": "stdout",
          "text": [
            "Enter value of a:TEN\n",
            "Entered value is wrong\n"
          ]
        }
      ]
    },
    {
      "cell_type": "code",
      "source": [
        "try:\n",
        "  a = int(input(\"Enter value of a:\"))\n",
        "  b = int(input(\"Enter value of b:\"))\n",
        "  c = a / b\n",
        "  print(\"The answer of a divide by b:\", c)\n",
        "except(ValueError, ZeroDivisionError):\n",
        "  print(\"Please enter a valid value\")"
      ],
      "metadata": {
        "colab": {
          "base_uri": "https://localhost:8080/"
        },
        "id": "7NdffxpJR1rd",
        "outputId": "d7af51e7-f8f8-40be-9395-a6a30767dce2"
      },
      "execution_count": 5,
      "outputs": [
        {
          "output_type": "stream",
          "name": "stdout",
          "text": [
            "Enter value of a:10\n",
            "Enter value of b:0\n",
            "Please enter a valid value\n"
          ]
        }
      ]
    },
    {
      "cell_type": "code",
      "source": [
        "# Python provides the finally block, which is used with the try block statement. The finally block is used to write a block of code that must execute, whether the try block raises an error or not\n",
        "\n",
        "try:\n",
        "  # block of code\n",
        "  # this may throw an exception\n",
        "finally:\n",
        "  # block of code\n",
        "  # this will always be executed\n",
        "  # after the try and any except block"
      ],
      "metadata": {
        "id": "LNdPucdZSTZy"
      },
      "execution_count": null,
      "outputs": []
    },
    {
      "cell_type": "code",
      "source": [
        "try:\n",
        "  a = int(input(\"Enter value of a:\"))\n",
        "  b = int(input(\"Enter value of b:\"))\n",
        "  c = a / b\n",
        "  print(\"The answer of a divide by b:\", c)\n",
        "except ZeroDivisionError:\n",
        "  print(\"Can't divide with zero\")\n",
        "finally:\n",
        "  print(\"Inside a finally block\")"
      ],
      "metadata": {
        "colab": {
          "base_uri": "https://localhost:8080/"
        },
        "id": "gUAXvarBTKqG",
        "outputId": "672f7154-b159-4da4-8644-82325c7acd85"
      },
      "execution_count": 8,
      "outputs": [
        {
          "output_type": "stream",
          "name": "stdout",
          "text": [
            "Enter value of a:20\n",
            "Enter value of b:5\n",
            "The answer of a divide by b: 4.0\n",
            "Inside a finally block\n"
          ]
        }
      ]
    },
    {
      "cell_type": "code",
      "source": [
        "\"\"\"\n",
        "Sometimes we might want to run a specific block of code. In that case, we can use else block\n",
        "with the try-except block. The else block will be executed if and only if there are no exception is the try block.\n",
        "For these cases, we can use the optional else statement with the try statement\n",
        "\"\"\"\n",
        "\n",
        "try:\n",
        "  # block of code\n",
        "except Exception:\n",
        "  # block of code\n",
        "else:\n",
        "  # this code executes when exceptions not occurred\n"
      ],
      "metadata": {
        "id": "IoyGpmVrUZj_"
      },
      "execution_count": null,
      "outputs": []
    },
    {
      "cell_type": "code",
      "source": [
        "try:\n",
        "  a = int(input(\"Enter value of a:\"))\n",
        "  b = int(input(\"Enter value of b:\"))\n",
        "  c = a / b\n",
        "  print(\"a/b =\",c)\n",
        "except ZeroDivisionError:\n",
        "  print(\"Can't divide by zero\")\n",
        "else:\n",
        "  print(\"We are in else block\")"
      ],
      "metadata": {
        "colab": {
          "base_uri": "https://localhost:8080/"
        },
        "id": "jToqZoNYVfuO",
        "outputId": "89ebb032-43b5-4406-9fce-a8ecf7a9d617"
      },
      "execution_count": 9,
      "outputs": [
        {
          "output_type": "stream",
          "name": "stdout",
          "text": [
            "Enter value of a:20\n",
            "Enter value of b:4\n",
            "a/b = 5.0\n",
            "We are in else block\n"
          ]
        }
      ]
    },
    {
      "cell_type": "code",
      "source": [
        "try:\n",
        "  a = int(input(\"Enter value of a:\"))\n",
        "  b = int(input(\"Enter value of b:\"))\n",
        "  c = a / b\n",
        "  print(\"a/b =\",c)\n",
        "except ZeroDivisionError:\n",
        "  print(\"Can't divide by zero\")\n",
        "else:\n",
        "  print(\"We are in else block\")"
      ],
      "metadata": {
        "colab": {
          "base_uri": "https://localhost:8080/"
        },
        "id": "-aeTuzeOWNxP",
        "outputId": "46cacb02-d63b-4a0e-cb37-bc78dd704996"
      },
      "execution_count": 10,
      "outputs": [
        {
          "output_type": "stream",
          "name": "stdout",
          "text": [
            "Enter value of a:20\n",
            "Enter value of b:0\n",
            "Can't divide by zero\n"
          ]
        }
      ]
    },
    {
      "cell_type": "code",
      "source": [
        "def simple_interest(amount, year, rate):\n",
        "  try:\n",
        "    if rate > 100:\n",
        "      raise ValueError(rate)\n",
        "    interest = (amount * year * rate) / 100\n",
        "    print(\"The Simple Interest is\", interest)\n",
        "    return interest\n",
        "  except ValueError:\n",
        "   print(\"interest rate is out of range\", rate)\n",
        "\n",
        "print(\"Case 1\")\n",
        "simple_interest(800, 6, 8)\n",
        "print(\"Case 2\")\n",
        "simple_interest(800, 6, 800)"
      ],
      "metadata": {
        "colab": {
          "base_uri": "https://localhost:8080/"
        },
        "id": "6ZsLtVSiWQa8",
        "outputId": "d16e4265-d80a-4c22-d665-9203adb93d79"
      },
      "execution_count": 15,
      "outputs": [
        {
          "output_type": "stream",
          "name": "stdout",
          "text": [
            "Case 1\n",
            "The Simple Interest is 384.0\n",
            "Case 2\n",
            "interest rate is out of range 800\n"
          ]
        }
      ]
    },
    {
      "cell_type": "code",
      "source": [
        "\"\"\"\n",
        "The special syntax *args in function definitions in Python is used to pass a variable number of\n",
        "arguments to a function. It is used to pass a non-keyworded, variable-length argument list\n",
        "\"\"\"\n",
        "\n",
        "# We use it when the number of arguments we take as parameters is not fixed\n",
        "\n",
        "\"\"\"\n",
        "The syntax is to use the symbol * to take in a variable number of arguments; by convention, it is\n",
        "often used with the word args\n",
        "\n",
        "What *args allows you to do is take in more arguments than the number of formal arguments that\n",
        "you previously defined. With *args, any number of extra arguments can be tacked on to your\n",
        "current formal parameters (including zero extra arguments)\n",
        "\n",
        "For example, we want to make multiply function that takes any number of arguments and is able to\n",
        "multiply them all together. It can be done using *args\n",
        "\n",
        "Using the *, the variable that we associate with the * becomes iterable meaning you can do things\n",
        "like iterate over it, run some higher-order functions such as map and filter, etc.\n",
        "\n",
        "*args receives arguments as a tuple\n",
        "\n",
        "The difference between **kwargs and *args is that **kwargs takes a dictionary as an argument.\n",
        "\"\"\""
      ],
      "metadata": {
        "id": "kPzzhu7sjV1m"
      },
      "execution_count": null,
      "outputs": []
    },
    {
      "cell_type": "code",
      "source": [
        "def myFunction(*arguments):\n",
        "  for arg in arguments:\n",
        "    print(arg)\n",
        "\n",
        "myFunction(\"Hello\", \"Welcome\", \"to\", \"Python\")"
      ],
      "metadata": {
        "colab": {
          "base_uri": "https://localhost:8080/"
        },
        "id": "8_zyD7DPpi2i",
        "outputId": "4ae1d03b-f558-49b7-c25f-78636a179669"
      },
      "execution_count": 16,
      "outputs": [
        {
          "output_type": "stream",
          "name": "stdout",
          "text": [
            "Hello\n",
            "Welcome\n",
            "to\n",
            "Python\n"
          ]
        }
      ]
    },
    {
      "cell_type": "code",
      "source": [
        "def myFunction(arg1, *args):\n",
        "  print(\"First argument :\", arg1)\n",
        "  for arg in args:\n",
        "    print(\"Next argument through :\", arg)\n",
        "\n",
        "myFunction(\"Hello\", \"Welcome\", \"to\", \"Python\")"
      ],
      "metadata": {
        "colab": {
          "base_uri": "https://localhost:8080/"
        },
        "id": "M_8Q8TnEqCUA",
        "outputId": "849ff4ff-4f81-43ed-9e02-d94e5d148c51"
      },
      "execution_count": 17,
      "outputs": [
        {
          "output_type": "stream",
          "name": "stdout",
          "text": [
            "First argument : Hello\n",
            "Next argument through : Welcome\n",
            "Next argument through : to\n",
            "Next argument through : Python\n"
          ]
        }
      ]
    },
    {
      "cell_type": "code",
      "source": [
        "def myFunction(**kwargs):\n",
        "\n",
        "   for key, value in kwargs.items():\n",
        "     print(\"%s : %s\" % (key,value))# This expression uses the % operator, an old-style string formatting method in Python. Here, the format specifier %s represents a string (or any object that can be converted to a string with the str function). The %s placeholders are replaced by the values ​​(key, value) in parentheses, respectively. This is used to concatenate and print the values ​​of two variables key and value in string format.\n",
        "                                   # However, instead of this old style formatting method, a more new and preferred approach is to use f-strings or the str.format() method in Python 3.6 and above. These new methods increase the readability and ease of writing of the code. For example, you can do the same operation with f-string like this --> print(f\"{key} : {value}\")\n",
        "myFunction(name = 'Ahmet', lastname= 'Ak', year= 2001)"
      ],
      "metadata": {
        "colab": {
          "base_uri": "https://localhost:8080/"
        },
        "id": "YPWMTL-JrBel",
        "outputId": "822cdb25-53c3-4be3-9619-105457b54bdd"
      },
      "execution_count": 38,
      "outputs": [
        {
          "output_type": "stream",
          "name": "stdout",
          "text": [
            "name : Ahmet\n",
            "lastname : Ak\n",
            "year : 2001\n"
          ]
        }
      ]
    },
    {
      "cell_type": "code",
      "source": [
        "def myFunction(arg1, arg2, arg3):\n",
        "  print(\"arg1:\", arg1)\n",
        "  print(\"arg2:\", arg2)\n",
        "  print(\"arg3:\", arg3)\n",
        "\n",
        "args = (\"Welcome\", \"to\", \"Python\")\n",
        "myFunction(*args)\n",
        "\n",
        "kwargs = {\"arg1\": \"Welcome\", \"arg2\": \"to\", \"arg3\": \"Python\"}\n",
        "myFunction(**kwargs)\n",
        "\n",
        "# args can take in tuple, kwargs can take in dictionary"
      ],
      "metadata": {
        "colab": {
          "base_uri": "https://localhost:8080/"
        },
        "id": "18sdPVNuuht7",
        "outputId": "dfd12149-10d9-42f4-81a4-389d4461ca04"
      },
      "execution_count": 35,
      "outputs": [
        {
          "output_type": "stream",
          "name": "stdout",
          "text": [
            "arg1: Welcome\n",
            "arg2: to\n",
            "arg3: Python\n",
            "arg1: Welcome\n",
            "arg2: to\n",
            "arg3: Python\n"
          ]
        }
      ]
    },
    {
      "cell_type": "code",
      "source": [
        "def myFunction(*args, **kwargs):\n",
        "  print(\"args: \", args)\n",
        "  print(\"kwargs: \", kwargs)\n",
        "\n",
        "myFunction(\"Hello\", \"my\", \"Python\", first=\"Hello\", mid=\"my\", last=\"Python\")"
      ],
      "metadata": {
        "colab": {
          "base_uri": "https://localhost:8080/"
        },
        "id": "3vXQ63WjxBn8",
        "outputId": "a601e572-70cc-4aab-85fd-3c09f91409ac"
      },
      "execution_count": 36,
      "outputs": [
        {
          "output_type": "stream",
          "name": "stdout",
          "text": [
            "args:  ('Hello', 'my', 'Python')\n",
            "kwargs:  {'first': 'Hello', 'mid': 'my', 'last': 'Python'}\n"
          ]
        }
      ]
    },
    {
      "cell_type": "code",
      "source": [
        "class car():\n",
        "  def __init__(self, *args):\n",
        "    self.speed = args[0]\n",
        "    self.color = args[1]\n",
        "\n",
        "audi = car(200, 'red')\n",
        "bmw = car(250, 'black')\n",
        "\n",
        "print(audi.color)\n",
        "print(bmw.speed)"
      ],
      "metadata": {
        "colab": {
          "base_uri": "https://localhost:8080/"
        },
        "id": "HMCyIl9HxwjQ",
        "outputId": "e1e6493d-70d0-4a7e-e9d0-e86e68bae4e3"
      },
      "execution_count": 39,
      "outputs": [
        {
          "output_type": "stream",
          "name": "stdout",
          "text": [
            "red\n",
            "250\n"
          ]
        }
      ]
    },
    {
      "cell_type": "code",
      "source": [
        "class car():\n",
        "  def __init__(self, **kwargs):\n",
        "    self.speed = kwargs['s']\n",
        "    self.color = kwargs['c']\n",
        "\n",
        "audi = car(s=200 , c='red')\n",
        "bmw = car(s=250 , c='black')\n",
        "\n",
        "print(audi.color)\n",
        "print(bmw.speed)"
      ],
      "metadata": {
        "colab": {
          "base_uri": "https://localhost:8080/"
        },
        "id": "mYKAy6ev0vsf",
        "outputId": "aeec34ec-4317-4883-f293-e45a8246c6ee"
      },
      "execution_count": 40,
      "outputs": [
        {
          "output_type": "stream",
          "name": "stdout",
          "text": [
            "red\n",
            "250\n"
          ]
        }
      ]
    },
    {
      "cell_type": "code",
      "source": [
        "\"\"\"\n",
        "In Python, first class functions are defined to be used by objects. Class also appear as functions that we have specifically defined.\n",
        "The reason for this distinction is that in Python, each function is also an object.\n",
        "Then, whatever I can do with objects, I can also do with functions.\n",
        "If we have not made a special definition, these are first class objects. If I use it by playing something on it, these appear as other objects.\n",
        "\"\"\""
      ],
      "metadata": {
        "id": "9HLCVBHp113b"
      },
      "execution_count": null,
      "outputs": []
    },
    {
      "cell_type": "code",
      "source": [
        "# Python program to illustrate functions can be treated as objects\n",
        "\n",
        "def message(text):\n",
        "  return text.upper()\n",
        "\n",
        "print(message('Hello'))\n",
        "\n",
        "newmessage = message\n",
        "\n",
        "print(newmessage('Hello'))"
      ],
      "metadata": {
        "colab": {
          "base_uri": "https://localhost:8080/"
        },
        "id": "z7M86WWS3mVu",
        "outputId": "6a97138f-5ffd-43f3-df0e-cc4c0675d354"
      },
      "execution_count": 42,
      "outputs": [
        {
          "output_type": "stream",
          "name": "stdout",
          "text": [
            "HELLO\n",
            "HELLO\n"
          ]
        }
      ]
    },
    {
      "cell_type": "code",
      "source": [
        "# Functions can be passed as arguments to other functions\n",
        "\n",
        "def messageB(text):\n",
        "  return text.upper()\n",
        "                        # upper and lower are built-in functions\n",
        "def messageL(text):\n",
        "  return text.lower()\n",
        "\n",
        "def greet(func):\n",
        "  greeting = func(\"Hello, this is test message\")\n",
        "  print(greeting)\n",
        "\n",
        "greet(messageB)\n",
        "greet(messageL)"
      ],
      "metadata": {
        "colab": {
          "base_uri": "https://localhost:8080/"
        },
        "id": "y_oNgW2K4Ez7",
        "outputId": "0af8bb25-4e6f-42a2-c587-ff343674515d"
      },
      "execution_count": 1,
      "outputs": [
        {
          "output_type": "stream",
          "name": "stdout",
          "text": [
            "HELLO, THIS IS TEST MESSAGE\n",
            "hello, this is test message\n"
          ]
        }
      ]
    },
    {
      "cell_type": "code",
      "source": [
        "# Returning functions from another function\n",
        "\n",
        "def produce_adder(x):\n",
        "  def adder(y):\n",
        "    return x + y\n",
        "  return adder\n",
        "\n",
        "add_15 = produce_adder(15)\n",
        "\n",
        "print(add_15(10))\n",
        "\n",
        "\"\"\"\n",
        "A function called produced_adder can be set. This function takes a precision parameter x.\n",
        "\n",
        "Inside the produce_adder function, there is another function called adder. This inner function (the adder) takes a parameter on behalf of y and performs the operation x + y, resulting in the result. The important thing here is that the adder function takes the x variable outside its scope, that is, from the parameter of the produce_adder function. This indicates that adder has produced a closure because adder can access variables limited to the scope in which it is defined.\n",
        "\n",
        "The produced_adder function terminates the adder function defined in it. In this way, when the produced_adder function is called, a function (i.e. adder) is returned.\n",
        "\n",
        "With the expression add_15 = produce_adder(15), the produce_adder function is called with the value 15 and the returning adder function is assigned to the add_15 variable. At this stage, the x value is fixed at 15. So, when the add_15 function calls it, it acts as a function that adds 15 to the given value.\n",
        "\n",
        "Finally, the add_15 function is called with the value 10 with the print(add_15(10)) statement. This means calling the adder function with the value 10 and the value 15 fixed before as x. The result of this operation is 25 and is printed on the screen.\n",
        "\n",
        "What this code basically shows is that persistence is first class in Python and can be used as values ​​to other functions, even long-lived, or given as parameters to other functions. Closures can create very powerful and flexible programming models by preserving the capabilities and access to variables in which they are defined.\n",
        "\"\"\""
      ],
      "metadata": {
        "colab": {
          "base_uri": "https://localhost:8080/"
        },
        "id": "yhGy4behKHTM",
        "outputId": "d64daf02-165d-4b2c-a6c1-2455063c8267"
      },
      "execution_count": 2,
      "outputs": [
        {
          "output_type": "stream",
          "name": "stdout",
          "text": [
            "25\n"
          ]
        }
      ]
    },
    {
      "cell_type": "code",
      "source": [
        "def increase(x):\n",
        "  return x + 1\n",
        "\n",
        "def decrease(x):\n",
        "  return x - 1\n",
        "\n",
        "def operation(func, x):\n",
        "  result = func(x)\n",
        "  return result\n",
        "\n",
        "print(operation(increase, 4))\n",
        "print(operation(decrease, 4))"
      ],
      "metadata": {
        "colab": {
          "base_uri": "https://localhost:8080/"
        },
        "id": "P1Y_n2R781kG",
        "outputId": "43b847e4-ceb3-4a71-982f-faa2f511d675"
      },
      "execution_count": 3,
      "outputs": [
        {
          "output_type": "stream",
          "name": "stdout",
          "text": [
            "5\n",
            "3\n"
          ]
        }
      ]
    },
    {
      "cell_type": "code",
      "source": [
        "def calling():\n",
        "  def returned():\n",
        "    print(\"Hello\")\n",
        "  return returned\n",
        "\n",
        "new = calling()\n",
        "new()\n",
        "\n",
        "\"\"\"\n",
        "The calling function calls the returned function, the returned function writes Hello and sends it to the new function as a response. The answer returned function sent is the answer that will come when we run the new function.\n",
        "\"\"\""
      ],
      "metadata": {
        "colab": {
          "base_uri": "https://localhost:8080/"
        },
        "id": "p23HdGBvNE1i",
        "outputId": "5616571c-f975-4a90-efc3-869de2b1fe16"
      },
      "execution_count": 4,
      "outputs": [
        {
          "output_type": "stream",
          "name": "stdout",
          "text": [
            "Hello\n"
          ]
        }
      ]
    },
    {
      "cell_type": "code",
      "source": [
        "def divide(a, b):\n",
        "  return a/b\n",
        "\n",
        "print(divide(10,5))\n",
        "print(divide(0,4))\n",
        "print(divide(5,0)) # A problem that is not divisible by 0"
      ],
      "metadata": {
        "colab": {
          "base_uri": "https://localhost:8080/",
          "height": 332
        },
        "id": "11UzITatO18h",
        "outputId": "94e1d454-fec5-422e-9f86-98a420b9530d"
      },
      "execution_count": 5,
      "outputs": [
        {
          "output_type": "stream",
          "name": "stdout",
          "text": [
            "2.0\n",
            "0.0\n"
          ]
        },
        {
          "output_type": "error",
          "ename": "ZeroDivisionError",
          "evalue": "division by zero",
          "traceback": [
            "\u001b[0;31m---------------------------------------------------------------------------\u001b[0m",
            "\u001b[0;31mZeroDivisionError\u001b[0m                         Traceback (most recent call last)",
            "\u001b[0;32m<ipython-input-5-690c7343762d>\u001b[0m in \u001b[0;36m<cell line: 6>\u001b[0;34m()\u001b[0m\n\u001b[1;32m      4\u001b[0m \u001b[0mprint\u001b[0m\u001b[0;34m(\u001b[0m\u001b[0mdivide\u001b[0m\u001b[0;34m(\u001b[0m\u001b[0;36m10\u001b[0m\u001b[0;34m,\u001b[0m\u001b[0;36m5\u001b[0m\u001b[0;34m)\u001b[0m\u001b[0;34m)\u001b[0m\u001b[0;34m\u001b[0m\u001b[0;34m\u001b[0m\u001b[0m\n\u001b[1;32m      5\u001b[0m \u001b[0mprint\u001b[0m\u001b[0;34m(\u001b[0m\u001b[0mdivide\u001b[0m\u001b[0;34m(\u001b[0m\u001b[0;36m0\u001b[0m\u001b[0;34m,\u001b[0m\u001b[0;36m4\u001b[0m\u001b[0;34m)\u001b[0m\u001b[0;34m)\u001b[0m\u001b[0;34m\u001b[0m\u001b[0;34m\u001b[0m\u001b[0m\n\u001b[0;32m----> 6\u001b[0;31m \u001b[0mprint\u001b[0m\u001b[0;34m(\u001b[0m\u001b[0mdivide\u001b[0m\u001b[0;34m(\u001b[0m\u001b[0;36m5\u001b[0m\u001b[0;34m,\u001b[0m\u001b[0;36m0\u001b[0m\u001b[0;34m)\u001b[0m\u001b[0;34m)\u001b[0m\u001b[0;34m\u001b[0m\u001b[0;34m\u001b[0m\u001b[0m\n\u001b[0m",
            "\u001b[0;32m<ipython-input-5-690c7343762d>\u001b[0m in \u001b[0;36mdivide\u001b[0;34m(a, b)\u001b[0m\n\u001b[1;32m      1\u001b[0m \u001b[0;32mdef\u001b[0m \u001b[0mdivide\u001b[0m\u001b[0;34m(\u001b[0m\u001b[0ma\u001b[0m\u001b[0;34m,\u001b[0m \u001b[0mb\u001b[0m\u001b[0;34m)\u001b[0m\u001b[0;34m:\u001b[0m\u001b[0;34m\u001b[0m\u001b[0;34m\u001b[0m\u001b[0m\n\u001b[0;32m----> 2\u001b[0;31m   \u001b[0;32mreturn\u001b[0m \u001b[0ma\u001b[0m\u001b[0;34m/\u001b[0m\u001b[0mb\u001b[0m\u001b[0;34m\u001b[0m\u001b[0;34m\u001b[0m\u001b[0m\n\u001b[0m\u001b[1;32m      3\u001b[0m \u001b[0;34m\u001b[0m\u001b[0m\n\u001b[1;32m      4\u001b[0m \u001b[0mprint\u001b[0m\u001b[0;34m(\u001b[0m\u001b[0mdivide\u001b[0m\u001b[0;34m(\u001b[0m\u001b[0;36m10\u001b[0m\u001b[0;34m,\u001b[0m\u001b[0;36m5\u001b[0m\u001b[0;34m)\u001b[0m\u001b[0;34m)\u001b[0m\u001b[0;34m\u001b[0m\u001b[0;34m\u001b[0m\u001b[0m\n\u001b[1;32m      5\u001b[0m \u001b[0mprint\u001b[0m\u001b[0;34m(\u001b[0m\u001b[0mdivide\u001b[0m\u001b[0;34m(\u001b[0m\u001b[0;36m0\u001b[0m\u001b[0;34m,\u001b[0m\u001b[0;36m4\u001b[0m\u001b[0;34m)\u001b[0m\u001b[0;34m)\u001b[0m\u001b[0;34m\u001b[0m\u001b[0;34m\u001b[0m\u001b[0m\n",
            "\u001b[0;31mZeroDivisionError\u001b[0m: division by zero"
          ]
        }
      ]
    },
    {
      "cell_type": "code",
      "source": [
        "# Then we need to do a smart division.\n",
        "# We should check while calling the function, not while executing the function\n",
        "\n",
        "\"\"\"\n",
        "The new_divide function takes another function (func) as a parameter. This is the function to decorate (in this case the divide function).\n",
        "In new_divide, another function called inner is defined. The inner function takes parameters a and b, which will be passed to the divide function.\n",
        "The inner function first prints a message stating that the division will be performed.\n",
        "It then checks whether b is equal to zero. If b is zero, an error message is printed to prevent a division by zero error and the function terminates by returning None.\n",
        "If b is nonzero, the original divide function (func) is called and the result is returned.\n",
        "The new_divide function returns the inner function. This is an important point because decorators need to \"wrap\" the functions they decorate and return a modified version of them.\n",
        "Using the @new_divide Decorator:\n",
        "\n",
        "The @new_divide line overwrites the divide function, allowing you to decorate the divide function with new_divide. This means that when the divide function is called, the inner function returned by new_divide will actually be called.\n",
        "Running the divide Function:\n",
        "\n",
        "Calling divide(10, 5), divide(0, 4), and divide(5, 0) actually calls the inner function returned by new_divide. In this way, additional checks are made before each division operation and the user is informed when necessary.\n",
        "\"\"\"\n",
        "\n",
        "def new_divide(func):\n",
        "  def inner(a,b):\n",
        "    print(\"Divide: \", a, \"and\", b)\n",
        "    if b == 0:\n",
        "      print(\"You cannot divide by 0.\")\n",
        "      return\n",
        "    return func(a,b)\n",
        "  return inner\n",
        "\n",
        "@new_divide         # Using @ to determine decorator function\n",
        "def divide(a, b):\n",
        "  return a / b\n",
        "\n",
        "print(divide(10,5))\n",
        "print(divide(0,4))\n",
        "print(divide(5,0))"
      ],
      "metadata": {
        "colab": {
          "base_uri": "https://localhost:8080/"
        },
        "id": "sCn_aCbIPWMp",
        "outputId": "e034125e-6fb3-4b6c-eb0a-baf813df6635"
      },
      "execution_count": 7,
      "outputs": [
        {
          "output_type": "stream",
          "name": "stdout",
          "text": [
            "Divide:  10 and 5\n",
            "2.0\n",
            "Divide:  0 and 4\n",
            "0.0\n",
            "Divide:  5 and 0\n",
            "You cannot divide by 0.\n",
            "None\n"
          ]
        }
      ]
    },
    {
      "cell_type": "code",
      "source": [
        "def hello_decorator(func):\n",
        "  def inner(*args, **kwargs):\n",
        "    print(\"before Execution\")\n",
        "    returned_value = func(*args, **kwargs)\n",
        "    print(\"after Execution\")\n",
        "    return returned_value\n",
        "  return inner\n",
        "\n",
        "@hello_decorator\n",
        "def sum_two_numbers(a, b):\n",
        "  print(\"Inside the function\")\n",
        "  return a + b\n",
        "\n",
        "a, b = 1, 2\n",
        "print(\"Sum =\", sum_two_numbers(a, b))"
      ],
      "metadata": {
        "colab": {
          "base_uri": "https://localhost:8080/"
        },
        "id": "TP-1wUagT1wC",
        "outputId": "ff7d77b9-10fc-463f-deee-ed8ab0882532"
      },
      "execution_count": 8,
      "outputs": [
        {
          "output_type": "stream",
          "name": "stdout",
          "text": [
            "before Execution\n",
            "Inside the function\n",
            "after Execution\n",
            "Sum = 3\n"
          ]
        }
      ]
    }
  ]
}
