{
  "nbformat": 4,
  "nbformat_minor": 0,
  "metadata": {
    "colab": {
      "provenance": [],
      "authorship_tag": "ABX9TyO4I1p6+X9LvTUstehS5mJv",
      "include_colab_link": true
    },
    "kernelspec": {
      "name": "python3",
      "display_name": "Python 3"
    },
    "language_info": {
      "name": "python"
    }
  },
  "cells": [
    {
      "cell_type": "markdown",
      "metadata": {
        "id": "view-in-github",
        "colab_type": "text"
      },
      "source": [
        "<a href=\"https://colab.research.google.com/github/Alikosemen/Learn-Python-Programming-Language/blob/main/Week_4.ipynb\" target=\"_parent\"><img src=\"https://colab.research.google.com/assets/colab-badge.svg\" alt=\"Open In Colab\"/></a>"
      ]
    },
    {
      "cell_type": "markdown",
      "source": [
        "##  **Python Examples**"
      ],
      "metadata": {
        "id": "J7R2KOltTqdA"
      }
    },
    {
      "cell_type": "markdown",
      "source": [
        " **Example 4. Write a Python code with functions *multiplication*, *addition* that performs arithmetics\n",
        "operations. Define a function *calculation* using created functions as a decorator. *calculation* function use\n",
        "one parameter and calculate using multiplication and addition, respectively**"
      ],
      "metadata": {
        "id": "WpXCsFzPTyjt"
      }
    },
    {
      "cell_type": "code",
      "source": [
        "def multiplication(func):\n",
        "  def wrapper(*args, **kwargs):\n",
        "    num_mul = func(*args, **kwargs)\n",
        "    print(\"Inside the multiplication function:\", num_mul)\n",
        "    return num_mul * num_mul\n",
        "  return wrapper\n",
        "\n",
        "def addition(func):\n",
        "  def wrapper(*args, **kwargs):\n",
        "    num_sum = func(*args, **kwargs)\n",
        "    print(\"Inside the addition function:\", num_sum)\n",
        "    return num_sum + num_sum\n",
        "  return wrapper\n",
        "\n",
        "@addition\n",
        "@multiplication\n",
        "def calculation(a):\n",
        "  print(\"Inside the calculation function:\", a)\n",
        "  return a\n",
        "\n",
        "calculation(3)"
      ],
      "metadata": {
        "colab": {
          "base_uri": "https://localhost:8080/"
        },
        "id": "IesAopMxTUAL",
        "outputId": "f662a619-da43-4765-b188-fb5d4deacbae"
      },
      "execution_count": null,
      "outputs": [
        {
          "output_type": "stream",
          "name": "stdout",
          "text": [
            "Inside the calculation function: 3\n",
            "Inside the multiplication function: 3\n",
            "Inside the addition function: 9\n"
          ]
        },
        {
          "output_type": "execute_result",
          "data": {
            "text/plain": [
              "18"
            ]
          },
          "metadata": {},
          "execution_count": 1
        }
      ]
    },
    {
      "cell_type": "markdown",
      "source": [
        "**Example 5. Write a *RationalNumber* class with functions *mul*,*add*,*sub*,*truediv* that performs arithmetics operations for rational numbers.**"
      ],
      "metadata": {
        "id": "rD7vEmKZWyqE"
      }
    },
    {
      "cell_type": "code",
      "source": [
        "class RationalNumber:\n",
        "  def __init__(self, numerator, denominator = 1):\n",
        "    self.numerator = numerator\n",
        "    self.denominator = denominator\n",
        "\n",
        "  def __add__(self, other):\n",
        "    if not isinstance(other, RationalNumber):\n",
        "      other = RationalNumber(other)\n",
        "\n",
        "    add_numerator = self.numerator * other.denominator + self.denominator * other.numerator\n",
        "    add_denominator = self.denominator * other.denominator\n",
        "    return RationalNumber(add_numerator, add_denominator)\n",
        "\n",
        "  def __sub__(self, other):\n",
        "    if not isinstance(other, RationalNumber):\n",
        "      other = RationalNumber(other)\n",
        "\n",
        "    sub_numerator = self.numerator * other.denominator - self.denominator * other.numerator\n",
        "    sub_denominator = self.denominator * other.denominator\n",
        "    return RationalNumber(sub_numerator, sub_denominator)\n",
        "\n",
        "\n",
        "  def __mul__(self, other):\n",
        "    if not isinstance(other, RationalNumber):\n",
        "      other = RationalNumber(other)\n",
        "\n",
        "    mul_numerator = self.numerator * other.numerator\n",
        "    mul_denominator = self.denominator * other.denominator\n",
        "    return RationalNumber(mul_numerator, mul_denominator)\n",
        "\n",
        "  def __truediv__(self, other):\n",
        "    if not isinstance(other, RationalNumber):\n",
        "      other = RationalNumber(other)\n",
        "\n",
        "    div_numerator = self.numerator * other.denominator\n",
        "    div_denominator = self.denominator * other.numerator\n",
        "    return RationalNumber(div_numerator, div_denominator)\n",
        "\n",
        "  def __str__(self):\n",
        "    return \"%s/%s\" % (self.numerator, self.denominator)\n",
        "\n",
        "a = RationalNumber(1, 2)\n",
        "b = RationalNumber(1, 3)\n",
        "\n",
        "\n",
        "print(a*b)"
      ],
      "metadata": {
        "id": "DLjIFs5FuXTN",
        "colab": {
          "base_uri": "https://localhost:8080/"
        },
        "outputId": "63869318-a2eb-43a7-a599-1ffff858595d"
      },
      "execution_count": null,
      "outputs": [
        {
          "output_type": "stream",
          "name": "stdout",
          "text": [
            "1/6\n"
          ]
        }
      ]
    },
    {
      "cell_type": "markdown",
      "source": [
        "**Example 6. Collatz Problem: Start with a number n > 1. Find the number of steps it takes to reach one\n",
        "using the following process: If n is even, divide it by 2. If n is odd, multiply it by 3 and add 1.**"
      ],
      "metadata": {
        "id": "nuf2KSgUZBiw"
      }
    },
    {
      "cell_type": "code",
      "source": [
        "num = int(input(\"Enter a number, please:\"))\n",
        "\n",
        "step = 0\n",
        "\n",
        "while num > 1:\n",
        "  if num % 2 == 0:\n",
        "    num = num / 2\n",
        "    step += 1\n",
        "  else:\n",
        "    num = (num * 3) + 1\n",
        "    step += 1\n",
        "\n",
        "print(step)"
      ],
      "metadata": {
        "colab": {
          "base_uri": "https://localhost:8080/"
        },
        "id": "9wHo7TSeu_dF",
        "outputId": "d575202f-fe5d-4c22-da52-bafb7b84f7b9"
      },
      "execution_count": null,
      "outputs": [
        {
          "output_type": "stream",
          "name": "stdout",
          "text": [
            "Enter a number, please:20\n",
            "7\n"
          ]
        }
      ]
    },
    {
      "cell_type": "markdown",
      "source": [
        "**Example 7. *Caesar cipher:*\n",
        "The key is an integer from 1 to 25. This cipher rotates the letters of the alphabet (A to Z). The encoding\n",
        "replaces each letter with the 1st to 25th next letter in the alphabet (wrapping Z to A). So key = 2 encrypts\n",
        "\"HI\" to \"JK\", but key=20 encrypts \"HI\" to \"BC\".\n",
        "(Note: ASCII code starts from A=65, chr() is to get character from ASCII table, ord() is to get ASCII value\n",
        "of character. English alphabet has 26 letters)**"
      ],
      "metadata": {
        "id": "aE5nkW_ZX8yN"
      }
    },
    {
      "cell_type": "code",
      "source": [
        "text = \"KARATAY\"\n",
        "index = 0\n",
        "key = 4\n",
        "Cipher = \"\"\n",
        "\n",
        "while index != len(text):\n",
        "  get_character = text[index]\n",
        "  ASCII = ord(get_character)\n",
        "  shift = ASCII + key\n",
        "  if  shift > 90:\n",
        "    shift = shift - 26\n",
        "    shifted_num = chr(shift)\n",
        "    Cipher += shifted_num\n",
        "    index +=1\n",
        "  else:\n",
        "    shifted_num = chr(shift)\n",
        "    Cipher += shifted_num\n",
        "    index +=1\n",
        "\n",
        "print(Cipher)"
      ],
      "metadata": {
        "id": "MJ6TNslmZn8Z",
        "colab": {
          "base_uri": "https://localhost:8080/"
        },
        "outputId": "a74fbe03-1089-4cfe-d606-055225290881"
      },
      "execution_count": 77,
      "outputs": [
        {
          "output_type": "stream",
          "name": "stdout",
          "text": [
            "OEVEXEC\n"
          ]
        }
      ]
    }
  ]
}
