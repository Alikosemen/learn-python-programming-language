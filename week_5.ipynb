{
  "nbformat": 4,
  "nbformat_minor": 0,
  "metadata": {
    "colab": {
      "provenance": [],
      "authorship_tag": "ABX9TyPAWvCQ2ougIKTIpj4MSwrw",
      "include_colab_link": true
    },
    "kernelspec": {
      "name": "python3",
      "display_name": "Python 3"
    },
    "language_info": {
      "name": "python"
    }
  },
  "cells": [
    {
      "cell_type": "markdown",
      "metadata": {
        "id": "view-in-github",
        "colab_type": "text"
      },
      "source": [
        "<a href=\"https://colab.research.google.com/github/Alikosemen/Learn-Python-Programming-Language/blob/main/Week_5.ipynb\" target=\"_parent\"><img src=\"https://colab.research.google.com/assets/colab-badge.svg\" alt=\"Open In Colab\"/></a>"
      ]
    },
    {
      "cell_type": "markdown",
      "source": [
        "##  **Python Examples**"
      ],
      "metadata": {
        "id": "J7R2KOltTqdA"
      }
    },
    {
      "cell_type": "markdown",
      "source": [
        "*Implementing example 7 with methods*"
      ],
      "metadata": {
        "id": "iFs0cvQk3a5p"
      }
    },
    {
      "cell_type": "markdown",
      "source": [
        "**Example 7. *Caesar cipher:*\n",
        "The key is an integer from 1 to 25. This cipher rotates the letters of the alphabet (A to Z). The encoding\n",
        "replaces each letter with the 1st to 25th next letter in the alphabet (wrapping Z to A). So key = 2 encrypts\n",
        "\"HI\" to \"JK\", but key=20 encrypts \"HI\" to \"BC\".\n",
        "(Note: ASCII code starts from A=65, chr() is to get character from ASCII table, ord() is to get ASCII value\n",
        "of character. English alphabet has 26 letters)**"
      ],
      "metadata": {
        "id": "aE5nkW_ZX8yN"
      }
    },
    {
      "cell_type": "code",
      "source": [
        "def encrypt(text, key):\n",
        "  index = 0\n",
        "  cipher = \"\"\n",
        "  while index != len(text):\n",
        "    get_character = text[index]\n",
        "    ASCII = ord(get_character)\n",
        "    shift = (ASCII + key - 65) % 26 + 65\n",
        "    shifted_char = chr(shift)\n",
        "    cipher += shifted_char\n",
        "    index +=1\n",
        "  return cipher\n",
        "\n",
        "def decrypt(text, key):\n",
        " index = 0\n",
        " cipher = \"\"\n",
        " while index != len(text):\n",
        "    get_character = text[index]\n",
        "    ASCII = ord(get_character)\n",
        "    shift = (ASCII - key - 65) % 26 + 65\n",
        "    shifted_char = chr(shift)\n",
        "    cipher += shifted_char\n",
        "    index += 1\n",
        " return cipher\n",
        "\n",
        "print(encrypt(\"KARATAY\", 4))\n",
        "print(decrypt(\"OEVEXEC\", 4))"
      ],
      "metadata": {
        "id": "MJ6TNslmZn8Z",
        "colab": {
          "base_uri": "https://localhost:8080/"
        },
        "outputId": "72bf2d85-dde8-4626-cb84-c1a0b9cff985"
      },
      "execution_count": null,
      "outputs": [
        {
          "output_type": "stream",
          "name": "stdout",
          "text": [
            "OEVEXEC\n",
            "KARATAY\n"
          ]
        }
      ]
    },
    {
      "cell_type": "markdown",
      "source": [
        "**Example 8. Produce *Student* class. Attributes are *firstname*, *lastname*, *skills*. Produce *student_info*, *add_skill* functions. *student_info* gives info of student and *add_skill* the skill to student skills.**"
      ],
      "metadata": {
        "id": "8rfvUToJxbpd"
      }
    },
    {
      "cell_type": "code",
      "source": [
        "class Student:\n",
        "  def __init__(self, firstname, lastname):\n",
        "    self.firstname = firstname\n",
        "    self.lastname = lastname\n",
        "    self.skills = []\n",
        "\n",
        "  def student_info(self):\n",
        "    return f' Student: {self.firstname} {self.lastname} \\n Students skills: {self.skills}'\n",
        "\n",
        "  def add_skill(self, skill):\n",
        "    self.skills.append(skill)\n",
        "\n",
        "s1 = Student(\"Ali\", \"Kösemen\")\n",
        "\n",
        "s1.add_skill(\"LaTeX\")\n",
        "s1.add_skill(\"Java\")\n",
        "s1.add_skill(\"Python\")\n",
        "s1.add_skill(\"C++\")\n",
        "\n",
        "print(s1.student_info())"
      ],
      "metadata": {
        "colab": {
          "base_uri": "https://localhost:8080/"
        },
        "id": "pvc-xkqLuJU1",
        "outputId": "383035c9-cac0-4e01-8f28-ec825f63e2df"
      },
      "execution_count": null,
      "outputs": [
        {
          "output_type": "stream",
          "name": "stdout",
          "text": [
            " Student: Ali Kösemen \n",
            " Students skills: ['LaTeX', 'Java', 'Python', 'C++']\n"
          ]
        }
      ]
    },
    {
      "cell_type": "markdown",
      "source": [
        "**Example 9. Produce *Employee* class. Attributes are *name*, *salary*. Produce *show* function that gives info of employee and salary. salary will be private variable.**"
      ],
      "metadata": {
        "id": "ZCLLSE_tyhG0"
      }
    },
    {
      "cell_type": "code",
      "source": [
        "class Employee:\n",
        "  def __init__(self,name, salary):\n",
        "    self.name = name\n",
        "    self.__salary = salary\n",
        "\n",
        "  def show(self):\n",
        "    return f' Employee: {self.name}\\n Salary: {self.__salary}'\n",
        "\n",
        "e1 = Employee(\"Ali\",4000)\n",
        "print(e1.show())\n",
        "#print(e1.__salary)"
      ],
      "metadata": {
        "colab": {
          "base_uri": "https://localhost:8080/"
        },
        "id": "1bKjtxxq0Ezm",
        "outputId": "606f4fcb-3732-4742-edf0-5bd52aad8147"
      },
      "execution_count": 3,
      "outputs": [
        {
          "output_type": "stream",
          "name": "stdout",
          "text": [
            " Employee: Ali\n",
            " Salary: 4000\n"
          ]
        }
      ]
    }
  ]
}
