{
  "nbformat": 4,
  "nbformat_minor": 0,
  "metadata": {
    "colab": {
      "provenance": [],
      "gpuType": "T4",
      "authorship_tag": "ABX9TyOn6DiEweRRORGaqYhlfunY",
      "include_colab_link": true
    },
    "kernelspec": {
      "name": "python3",
      "display_name": "Python 3"
    },
    "language_info": {
      "name": "python"
    }
  },
  "cells": [
    {
      "cell_type": "markdown",
      "metadata": {
        "id": "view-in-github",
        "colab_type": "text"
      },
      "source": [
        "<a href=\"https://colab.research.google.com/github/Alikosemen/Learn-Python-Programming-Language/blob/main/Week_7.ipynb\" target=\"_parent\"><img src=\"https://colab.research.google.com/assets/colab-badge.svg\" alt=\"Open In Colab\"/></a>"
      ]
    },
    {
      "cell_type": "markdown",
      "source": [
        "**Example 9. Check user info**"
      ],
      "metadata": {
        "id": "z1FQdL0bZi8x"
      }
    },
    {
      "cell_type": "code",
      "execution_count": 4,
      "metadata": {
        "id": "8IH0D4x3r_HB",
        "colab": {
          "base_uri": "https://localhost:8080/"
        },
        "outputId": "36b87978-b1d7-401b-c155-3b45f4f41320"
      },
      "outputs": [
        {
          "output_type": "stream",
          "name": "stdout",
          "text": [
            "Username 'Ali' is in use.\n",
            "'delgado@example.com' is not a valid email address.\n"
          ]
        }
      ],
      "source": [
        "class DuplicateUsernameError(Exception):\n",
        "  pass\n",
        "\n",
        "\n",
        "class InvalidAgeError(Exception):\n",
        "  pass\n",
        "\n",
        "\n",
        "class UnderageError(Exception):\n",
        "  pass\n",
        "\n",
        "\n",
        "class InvalidEmailError(Exception):\n",
        "  pass\n",
        "\n",
        "\n",
        "class User:\n",
        "  def __init__(self, username, email):\n",
        "    self.username = username\n",
        "    self.email = email\n",
        "\n",
        "  def methodA(self):\n",
        "    print(\"methodA\")\n",
        "\n",
        "\n",
        "example_list = [\n",
        "    (\"Ali\", \"ali@example.com\", 21),\n",
        "    (\"Musa\", \"musa02@example.com\", 19),\n",
        "    (\"Osman\", \"osman@somewhere\", 25),\n",
        "    (\"Ali\", \"ali01@example.com\", 15),\n",
        "    (\"Delgado\", \"delgado@example.com\", -3),\n",
        "]\n",
        "\n",
        "directory = {}\n",
        "\n",
        "for username, email, age in example_list:\n",
        "   try:\n",
        "    if username in directory:\n",
        "      raise DuplicateUsernameError()\n",
        "    if age < 0:\n",
        "      raise InvalidEmailError()\n",
        "    if age < 16:\n",
        "      raise UnderageError()\n",
        "\n",
        "    email_parts = email.split(\"@\")\n",
        "    if len(email_parts) !=2 or not email_parts[0] or not email_parts[1]:\n",
        "      raise InvalidEmailError()\n",
        "\n",
        "   except DuplicateUsernameError:\n",
        "    print(\"Username '%s' is in use.\" % username)\n",
        "   except InvalidAgeError:\n",
        "    print(\"Invalid age: %d\" % age)\n",
        "   except UnderageError:\n",
        "    print(\"User %s is underage.\" % username)\n",
        "   except InvalidEmailError:\n",
        "    print(\"'%s' is not a valid email address.\" % email)\n",
        "\n",
        "   else:\n",
        "    directory[username] = User(username, email)"
      ]
    },
    {
      "cell_type": "markdown",
      "source": [
        "Delgado has not a valid email address because of his age"
      ],
      "metadata": {
        "id": "ISPh_VU_bSrc"
      }
    },
    {
      "cell_type": "code",
      "source": [
        "directory"
      ],
      "metadata": {
        "colab": {
          "base_uri": "https://localhost:8080/"
        },
        "id": "Ilya9HtD21Qv",
        "outputId": "14b9b3db-44f9-4195-9233-78f17c11bfad"
      },
      "execution_count": null,
      "outputs": [
        {
          "output_type": "execute_result",
          "data": {
            "text/plain": [
              "{'Ali': <__main__.User at 0x7d62b2f92890>,\n",
              " 'Musa': <__main__.User at 0x7d62b2f901f0>,\n",
              " 'Osman': <__main__.User at 0x7d62b2f92950>}"
            ]
          },
          "metadata": {},
          "execution_count": 3
        }
      ]
    },
    {
      "cell_type": "code",
      "source": [
        "for element in directory.values():\n",
        "  print(element.username, element.email)"
      ],
      "metadata": {
        "colab": {
          "base_uri": "https://localhost:8080/"
        },
        "id": "f1LnC_3q23e3",
        "outputId": "8ea1c9a8-ab57-48fe-8687-be39f20c0cf3"
      },
      "execution_count": null,
      "outputs": [
        {
          "output_type": "stream",
          "name": "stdout",
          "text": [
            "Ali ali@example.com\n",
            "Musa musa02@example.com\n",
            "Osman osman@somewhere\n"
          ]
        }
      ]
    },
    {
      "cell_type": "code",
      "source": [
        "directory[\"Ali\"].methodA()"
      ],
      "metadata": {
        "colab": {
          "base_uri": "https://localhost:8080/"
        },
        "id": "mzU0vYR44JMK",
        "outputId": "a09dabe1-7df2-4853-9895-7a2703c39630"
      },
      "execution_count": 5,
      "outputs": [
        {
          "output_type": "stream",
          "name": "stdout",
          "text": [
            "methodA\n"
          ]
        }
      ]
    },
    {
      "cell_type": "markdown",
      "source": [
        "**Example 10. Song List: The following relationships should exist between the four classes:**\n",
        "\n",
        "-- *a one-to-many relationship between albums and songs – this is likely to be bidirectional, since\n",
        "songs and albums are quite closely coupled*\n",
        "\n",
        "-- *a one-to-many relationship between artists and songs. This can be unidirectional or bidirectional.\n",
        "We don’t really need to store links to all of an artist’s songs on an artist object, since a reference to\n",
        "the artist from each song is enough for us to search our songs by artist, but if the music collection is\n",
        "very large it may be a good idea to cache this list.*\n",
        "\n",
        "-- *a one-to-many relationship between artists and albums, which can be unidirectional or bidirectional\n",
        "for the same reasons.*\n",
        "\n",
        "-- *a one-to-many relationship between playlists and songs – this is likely to be unidirectional, since it’s\n",
        "uncommon to keep track of all the playlists on which a particular song appears.*\n"
      ],
      "metadata": {
        "id": "b91Q3SwUdKFg"
      }
    },
    {
      "cell_type": "code",
      "source": [
        "class Song:\n",
        "\n",
        "  def __init__(self, title, artist, album, track_number):\n",
        "    self.title = title\n",
        "    self.artist = artist.name\n",
        "    self.album = album\n",
        "    self.track_number = track_number\n",
        "    artist.add_song(self)\n",
        "\n",
        "class Album:\n",
        "\n",
        "  def __init__(self, title, artist, year):\n",
        "    self.title = title\n",
        "    self.artist = artist\n",
        "    self.year = year\n",
        "    self.tracks = []\n",
        "    artist.add_album(self)\n",
        "\n",
        "  def add_track(self, title, artist=None):\n",
        "    if artist is None:\n",
        "      artist = self.artist\n",
        "    track_number = len(self.tracks)\n",
        "    song = Song(title, artist, self, track_number)\n",
        "    self.tracks.append(song)\n",
        "\n",
        "class Artist:\n",
        "\n",
        "  def __init__(self, name):\n",
        "    self.name = name\n",
        "    self.albums = []\n",
        "    self.songs = []\n",
        "\n",
        "  def add_album(self, album):\n",
        "    self.albums.append(album)\n",
        "\n",
        "  def add_song(self, song):\n",
        "    self.songs.append(song)\n",
        "\n",
        "class Playlist:\n",
        "\n",
        "  def __init__(self, name):\n",
        "    self.name = name\n",
        "    self.songs = []\n",
        "\n",
        "  def add_song(self, song):\n",
        "    self.songs.append(song)\n",
        "\n",
        "  def print_playlist(self):\n",
        "        print(f\"Playlist: {self.name}\")\n",
        "        print(\"-\" * len(self.name))\n",
        "        for i, song in enumerate(self.songs, 1):\n",
        "            print(f\"{i}. {song.title} - {song.artist}\")\n",
        "\n",
        "artist = Artist(\"Tanburi Cemil\")\n",
        "album = Album(\"Art\", artist, 1916)\n",
        "album.add_track(\"Ferafeza\", artist)\n",
        "album.add_track(\"Nihavend\", artist)\n",
        "album.add_track(\"Rast\", artist)\n",
        "\n",
        "playlist = Playlist(\"My Favourite Playlist\")\n",
        "\n",
        "for song in album.tracks:\n",
        "  playlist.add_song(song)\n",
        "\n",
        "playlist.print_playlist()"
      ],
      "metadata": {
        "colab": {
          "base_uri": "https://localhost:8080/"
        },
        "id": "VQ-iDlYxe9Au",
        "outputId": "bf67b7ba-e8fb-4065-daed-47ce66470b58"
      },
      "execution_count": 19,
      "outputs": [
        {
          "output_type": "stream",
          "name": "stdout",
          "text": [
            "Playlist: My Favourite Playlist\n",
            "---------------------\n",
            "1. Ferafeza - Tanburi Cemil\n",
            "2. Nihavend - Tanburi Cemil\n",
            "3. Rast - Tanburi Cemil\n"
          ]
        }
      ]
    }
  ]
}
